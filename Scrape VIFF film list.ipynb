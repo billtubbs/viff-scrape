{
 "cells": [
  {
   "cell_type": "markdown",
   "metadata": {},
   "source": [
    "# Scrape VIFF films to Excel\n",
    "\n",
    "Script to scrape film information from the Vancouver International Film Festival (VIFF) website"
   ]
  },
  {
   "cell_type": "code",
   "execution_count": 68,
   "metadata": {
    "collapsed": false
   },
   "outputs": [
    {
     "data": {
      "text/plain": [
       "'2.7.11'"
      ]
     },
     "execution_count": 68,
     "metadata": {},
     "output_type": "execute_result"
    }
   ],
   "source": [
    "from platform import python_version\n",
    "python_version()"
   ]
  },
  {
   "cell_type": "code",
   "execution_count": 7,
   "metadata": {
    "collapsed": false
   },
   "outputs": [
    {
     "data": {
      "text/plain": [
       "ParseResult(scheme='https', netloc='www.viff.org', path='/Online/default.asp', params='', query='doWork::WScontent::loadArticle=Load&BOparam::WScontent::loadArticle::article_id=D5FA11B0-61FD-4217-AAF7-1FC44D897DA1', fragment='')"
      ]
     },
     "execution_count": 7,
     "metadata": {},
     "output_type": "execute_result"
    }
   ],
   "source": [
    "# Python script to scrape film information from the\n",
    "# Vancouver International Film Festival (VIFF) website\n",
    "# using lxml\n",
    "\n",
    "import pandas as pd\n",
    "import numpy as np\n",
    "import requests\n",
    "import pickle\n",
    "from lxml import html\n",
    "\n",
    "try:\n",
    "    # For Python 3\n",
    "    from urllib.parse import urlparse\n",
    "except ImportError:\n",
    "    # For Python 2\n",
    "    from urlparse import urlparse\n",
    "\n",
    "# build the lxml tree from the chosen website\n",
    "# Used this as guide:\n",
    "# https://docs.python-guide.org/scenarios/scrape/\n",
    "\n",
    "# Enter the base URL where the A-Z list of films is here (from\n",
    "# the viff.org home page find the 'Search by Title' option):\n",
    "start_page = \"https://www.viff.org/Online/default.asp?\" \\\n",
    "             \"doWork::WScontent::loadArticle=Load&BOparam::\" \\\n",
    "             \"WScontent::loadArticle::\" \\\n",
    "             \"article_id=D5FA11B0-61FD-4217-AAF7-1FC44D897DA1\"\n",
    "\n",
    "start_page_parse_result = urlparse(start_page)\n",
    "start_page_parse_result"
   ]
  },
  {
   "cell_type": "code",
   "execution_count": 8,
   "metadata": {
    "collapsed": false
   },
   "outputs": [],
   "source": [
    "page = requests.get(start_page_parse_result.geturl())\n",
    "tree = html.fromstring(page.text)"
   ]
  },
  {
   "cell_type": "code",
   "execution_count": 9,
   "metadata": {
    "collapsed": false
   },
   "outputs": [
    {
     "name": "stdout",
     "output_type": "stream",
     "text": [
      "Found links for 355 film pages.\n"
     ]
    }
   ],
   "source": [
    "# Now extract the information we want\n",
    "\n",
    "# Get a list of URLs to the VIFF pages of each film\n",
    "film_elements = tree.xpath('/html/body//div[@class=\"article-container main-article-body\"]//div/a')\n",
    "film_page_links = {\n",
    "    el.text.strip(): el.attrib['href'] for el in film_elements\n",
    "}\n",
    "\n",
    "print(\"Found links for %d film pages.\" % len(film_page_links))"
   ]
  },
  {
   "cell_type": "code",
   "execution_count": 11,
   "metadata": {
    "collapsed": true
   },
   "outputs": [],
   "source": [
    "def convert_link_to_url(link, scheme=start_page_parse_result.scheme,\n",
    "                        netloc=start_page_parse_result.netloc,\n",
    "                        path=start_page_parse_result.path):\n",
    "    \n",
    "    \"\"\"Converts a relative link such as 'default.asp' into an absolute url\n",
    "    such as 'https://www.viff.org/Online/default.asp' using the scheme,\n",
    "    netloc, and path specified.\"\"\"\n",
    "    \n",
    "    parse_result = urlparse(link)\n",
    "\n",
    "    if parse_result.netloc is '':\n",
    "        parse_result = parse_result._replace(netloc=netloc)\n",
    "    if parse_result.scheme is '':\n",
    "        parse_result = parse_result._replace(scheme=scheme)\n",
    "    if start_page_parse_result.path.endswith(parse_result.path):\n",
    "        parse_result = parse_result._replace(path=path)\n",
    "    \n",
    "    return parse_result.geturl()\n",
    "\n",
    "def get_page_lxml_tree(url):\n",
    "    \"\"\"Request page from url and convert contents into lxml tree\"\"\"\n",
    "\n",
    "    page = requests.get(url)\n",
    "\n",
    "    return html.fromstring(page.content)"
   ]
  },
  {
   "cell_type": "code",
   "execution_count": 6,
   "metadata": {
    "collapsed": false
   },
   "outputs": [
    {
     "name": "stdout",
     "output_type": "stream",
     "text": [
      "Data from 10 films found in data file.\n"
     ]
    }
   ],
   "source": [
    "# Prepare dictionary to collect the film information\n",
    "year = pd.datetime.now().date().year\n",
    "data_filename = \"viff_data_%d.pickle\" % year\n",
    "try:\n",
    "    with open(\"viff_data_%d.pickle\" % year, 'rb') as f:\n",
    "        films = pickle.load(f)\n",
    "except:\n",
    "    films = {}\n",
    "else:\n",
    "    print(\"Data from %d films found in data file.\" % len(films))"
   ]
  },
  {
   "cell_type": "code",
   "execution_count": 7,
   "metadata": {
    "collapsed": false
   },
   "outputs": [
    {
     "name": "stdout",
     "output_type": "stream",
     "text": [
      "\n",
      "Reading information on each film\n",
      "   10: At War -> 5 info records found.\n",
      "WARNING: Getting title for film 'Ãga' failed -> Skipped.\n",
      "   11: Where -> 4 info records found.\n",
      "   12: The Favourite -> 4 info records found.\n",
      "   13: The Hymns of Muscovy -> 5 info records found.\n",
      "   14: ante mis ojos -> 5 info records found.\n",
      "   15: The Front Runner -> 4 info records found.\n",
      "   16: Prawn -> 4 info records found.\n",
      "   17: Colette -> 4 info records found.\n",
      "   18: Daughter of Mine -> 5 info records found.\n",
      "   19: Birds of Passage -> 5 info records found.\n"
     ]
    }
   ],
   "source": [
    "# Now load each film page and extract the information we are looking for\n",
    "\n",
    "# Set number of films to parse each time (None for all)\n",
    "batch = 10\n",
    "\n",
    "already_done = list(films.keys())\n",
    "total_count = len(films)\n",
    "\n",
    "print(\"\\nReading information on each film\")\n",
    "\n",
    "for title, link in film_page_links.items():\n",
    "    \n",
    "    # Skip if already in films dictionary\n",
    "    if title in already_done:\n",
    "        continue\n",
    "\n",
    "    # Convert link to a complete url\n",
    "    page_url = convert_link_to_url(link)\n",
    "\n",
    "    # Request page and convert contents to lxml tree\n",
    "    film_page_tree = get_page_lxml_tree(page_url)\n",
    "\n",
    "    # Get film title (xpath: '//*[@class=\"movie-title\"]')\n",
    "    try:\n",
    "        film_title = film_page_tree.find('.//h1[@class=\"movie-title\"]').text.strip()\n",
    "    except:\n",
    "        print(\"WARNING: Getting title for film '%s' failed -> Skipped.\" % film_title)\n",
    "        continue\n",
    "\n",
    "    # Get film information\n",
    "    film_info = {}\n",
    "    try:\n",
    "        film_information_elements = film_page_tree.find('.//div[@class=\"movie-information\"]').getchildren()\n",
    "    except:\n",
    "        print(\"WARNING: Getting information for film '%s' failed.\" % film_title)\n",
    "    else:\n",
    "        # Put film information into a dictionary\n",
    "        labels = ['Director', 'Year:', 'Country of Origin:', \n",
    "                  'Running Time:', 'Language:']\n",
    "        for e in film_information_elements:\n",
    "            text = e.text_content().strip()\n",
    "\n",
    "            for label in labels:\n",
    "                if text[0:len(label)] == label:\n",
    "\n",
    "                    # remove ':' if there is one\n",
    "                    if label[-1] == ':':\n",
    "                        key = label[0:-1]\n",
    "                    else:\n",
    "                        key = label\n",
    "\n",
    "                    film_info[key] = text[text.find(label) + len(label):].strip()\n",
    "\n",
    "    # Get film description\n",
    "    try:\n",
    "        film_description = film_page_tree.find('.//div[@class=\"movie-description\"]').text_content().strip()\n",
    "    except:\n",
    "        film_description = None\n",
    "        print(\"WARNING: Description for film '%s' missing.\" % film_title)\n",
    "\n",
    "    print(\" %4d: %s -> %d info records found.\" % (total_count, film_title, len(film_info)))\n",
    "\n",
    "    films[film_title] = {\n",
    "        'Information': film_info,\n",
    "        'Description': film_description\n",
    "    }\n",
    "\n",
    "    total_count += 1\n",
    "    if batch:\n",
    "        batch -= 1\n",
    "        if batch < 1:\n",
    "            break\n"
   ]
  },
  {
   "cell_type": "code",
   "execution_count": 8,
   "metadata": {
    "collapsed": false
   },
   "outputs": [
    {
     "name": "stdout",
     "output_type": "stream",
     "text": [
      "\n",
      "Information on 20 films now acquired.\n",
      "Results saved to file 'viff_data_2018.pickle'.\n"
     ]
    }
   ],
   "source": [
    "print(\"\\nInformation on %d films now acquired.\" % len(films))\n",
    "\n",
    "# Now save the film records to an excel file\n",
    "with open(data_filename, 'wb') as f:\n",
    "    pickle.dump(films, f)\n",
    "print(\"Results saved to file '%s'.\" % data_filename)"
   ]
  },
  {
   "cell_type": "code",
   "execution_count": 17,
   "metadata": {
    "collapsed": false
   },
   "outputs": [],
   "source": [
    "# Move data into pandas dataframe\n",
    "columns = set()\n",
    "data = dict()\n",
    "\n",
    "for film in films: \n",
    "    for key in films[film]['Information']:\n",
    "        columns = columns.union([key])\n",
    "\n",
    "for column in columns:\n",
    "    data[column] = []\n",
    "\n",
    "data['Description'] = []\n",
    "data['Title'] = []\n",
    "\n",
    "for film in films:\n",
    "    data['Title'].append(film)\n",
    "    for column in columns:\n",
    "        try:\n",
    "            data[column].append(films[film]['Information'][column])\n",
    "        except KeyError:\n",
    "            data[column].append(np.nan)\n",
    "    data['Description'].append(films[film]['Description'])\n",
    "\n",
    "# Dataframe from data\n",
    "df = pd.DataFrame(data=data)\n",
    "\n",
    "# Re-order so title column is first\n",
    "new_columns = list(df.columns.values)\n",
    "new_columns.remove('Title')\n",
    "new_columns = ['Title'] + new_columns\n",
    "df = df[new_columns]\n",
    "\n",
    "df.head()"
   ]
  },
  {
   "cell_type": "code",
   "execution_count": 19,
   "metadata": {
    "collapsed": false
   },
   "outputs": [
    {
     "name": "stdout",
     "output_type": "stream",
     "text": [
      "Saving results to Excel file 'VIFF2018_all.xls'\n"
     ]
    }
   ],
   "source": [
    "excel_output_filename = \"VIFF%d_all.xls\" % year\n",
    "print(\"Saving results to Excel file '%s'\" % excel_output_filename)\n",
    "\n",
    "# Save to excel\n",
    "df.to_excel(excel_output_filename)"
   ]
  },
  {
   "cell_type": "markdown",
   "metadata": {},
   "source": [
    "## Alternative script using Selenium to load page information\n",
    "\n",
    "This version is able to read movie screening times"
   ]
  },
  {
   "cell_type": "code",
   "execution_count": 1,
   "metadata": {
    "collapsed": false
   },
   "outputs": [
    {
     "name": "stdout",
     "output_type": "stream",
     "text": [
      "\n",
      " -------------- viff_scrape2.py --------------\n",
      "\n",
      "Scrape information on this year's films from 'https://www.viff.org'\n",
      "Launching Selenium web-page driver...\n"
     ]
    },
    {
     "data": {
      "text/plain": [
       "ParseResult(scheme='https', netloc='www.viff.org', path='/Online/default.asp', params='', query='doWork::WScontent::loadArticle=Load&BOparam::WScontent::loadArticle::article_id=D5FA11B0-61FD-4217-AAF7-1FC44D897DA1', fragment='')"
      ]
     },
     "execution_count": 1,
     "metadata": {},
     "output_type": "execute_result"
    }
   ],
   "source": [
    "# Python script to scrape film information from the\n",
    "# Vancouver International Film Festival (VIFF) website\n",
    "# using Selenium\n",
    "\n",
    "import pandas as pd\n",
    "import numpy as np\n",
    "import requests\n",
    "import pickle\n",
    "from selenium import webdriver\n",
    "from selenium.webdriver.common.keys import Keys\n",
    "\n",
    "try:\n",
    "    # For Python 3\n",
    "    from urllib.parse import urlparse\n",
    "except ImportError:\n",
    "    # For Python 2\n",
    "    from urlparse import urlparse\n",
    "\n",
    "print(\"\\n -------------- viff_scrape2.py --------------\\n\")\n",
    "\n",
    "print(\"Scrape information on this year's films from 'https://www.viff.org'\")\n",
    "year = pd.datetime.now().date().year\n",
    "\n",
    "print(\"Launching Selenium web-page driver...\")\n",
    "driver = webdriver.Safari()  # Other options include Chrome, Firefox\n",
    "\n",
    "# Enter the base URL where the A-Z list of films is here (from\n",
    "# the viff.org home page find the 'Search by Title' option):\n",
    "start_page_url = \"https://www.viff.org/Online/default.asp?\" \\\n",
    "                 \"doWork::WScontent::loadArticle=Load&BOparam::\" \\\n",
    "                 \"WScontent::loadArticle::\" \\\n",
    "                 \"article_id=D5FA11B0-61FD-4217-AAF7-1FC44D897DA1\"\n",
    "\n",
    "start_page_parse_result = urlparse(start_page_url)\n",
    "start_page_parse_result"
   ]
  },
  {
   "cell_type": "code",
   "execution_count": 2,
   "metadata": {
    "collapsed": false
   },
   "outputs": [
    {
     "name": "stdout",
     "output_type": "stream",
     "text": [
      "Opening Viff film list web-page...\n"
     ]
    }
   ],
   "source": [
    "print(\"Opening Viff film list web-page...\")\n",
    "# Open webpage in driver\n",
    "driver.get(start_page_url)"
   ]
  },
  {
   "cell_type": "code",
   "execution_count": 3,
   "metadata": {
    "collapsed": false
   },
   "outputs": [
    {
     "name": "stdout",
     "output_type": "stream",
     "text": [
      "Found links for 355 film pages.\n"
     ]
    }
   ],
   "source": [
    "# Now extract the information we want\n",
    "\n",
    "# Get a list of URLs to the VIFF pages of each film\n",
    "xp = '/html/body//div[@class=\"article-container main-article-body\"]//div/a'\n",
    "film_link_elements = driver.find_elements_by_xpath(xp)\n",
    "film_page_links = [\n",
    "    {'text': el.text.strip(), \"href\": el.get_attribute('href')} \n",
    "    for el in film_link_elements\n",
    "]\n",
    "print(\"Found links for %d film pages.\" % len(film_page_links))"
   ]
  },
  {
   "cell_type": "code",
   "execution_count": 4,
   "metadata": {
    "collapsed": true
   },
   "outputs": [],
   "source": [
    "def convert_link_to_url(link, scheme=start_page_parse_result.scheme,\n",
    "                        netloc=start_page_parse_result.netloc,\n",
    "                        path=start_page_parse_result.path):\n",
    "    \"\"\"Converts a relative link such as 'default.asp' into an absolute url\n",
    "    such as 'https://www.viff.org/Online/default.asp' using the scheme,\n",
    "    netloc, and path specified.\"\"\"\n",
    "    \n",
    "    parse_result = urlparse(link)\n",
    "\n",
    "    if parse_result.netloc is '':\n",
    "        parse_result = parse_result._replace(netloc=netloc)\n",
    "    if parse_result.scheme is '':\n",
    "        parse_result = parse_result._replace(scheme=scheme)\n",
    "    if start_page_parse_result.path.endswith(parse_result.path):\n",
    "        parse_result = parse_result._replace(path=path)\n",
    "    \n",
    "    return parse_result.geturl()\n",
    "\n",
    "def get_page_lxml_tree(url):\n",
    "    \"\"\"Request page from url and convert contents into lxml tree\"\"\"\n",
    "\n",
    "    page = requests.get(url)\n",
    "\n",
    "    return html.fromstring(page.content)"
   ]
  },
  {
   "cell_type": "code",
   "execution_count": 5,
   "metadata": {
    "collapsed": false
   },
   "outputs": [],
   "source": [
    "def get_film_details(driver, max_screenings=5):\n",
    "    \"\"\"Reads film information from Selenium web-driver.\"\"\"\n",
    "    \n",
    "    # Get movie title\n",
    "    xp = './/h1[@class=\"movie-title\"]'\n",
    "    try:\n",
    "        film_title = driver.find_element_by_xpath(xp).text.strip()\n",
    "    except:\n",
    "        print(\"WARNING: Title for film '%s' not found on page \" \\\n",
    "              \"-> skipped.\" % film_title)\n",
    "        return None\n",
    "\n",
    "    # Get film information\n",
    "    film_info = {}\n",
    "    xp = './/div[@class=\"movie-information\"]/*'\n",
    "    try:\n",
    "        film_info_elements = driver.find_elements_by_xpath(xp)\n",
    "    except:\n",
    "        print(\"WARNING: Getting information for film '%s' failed.\" % film_title)\n",
    "    else:\n",
    "        # Put film information into a dictionary\n",
    "        labels = ['Director', 'Year:', 'Country of Origin:', \n",
    "                  'Running Time:', 'Language:']\n",
    "        for e in film_info_elements:\n",
    "            text = e.text.strip()\n",
    "\n",
    "            for label in labels:\n",
    "                if text[0:len(label)] == label:\n",
    "\n",
    "                    # remove ':' if there is one\n",
    "                    if label[-1] == ':':\n",
    "                        key = label[0:-1]\n",
    "                    else:\n",
    "                        key = label\n",
    "\n",
    "                    film_info[key] = text[text.find(label) + len(label):].strip()\n",
    "    \n",
    "    # Get film description\n",
    "    xp = '//div[@class=\"movie-description\"]'\n",
    "    try:\n",
    "        film_description = driver.find_element_by_xpath(xp).text.strip()\n",
    "    except:\n",
    "        film_description = None\n",
    "        print(\"WARNING: Description for film '%s' missing.\" % film_title)\n",
    "    \n",
    "    # Get screening times\n",
    "    xp = '//div[@class=\"movie-tickets\"]/div[@name=\"avWidget\"]' \\\n",
    "         '//div[@class=\"item-description result-box-item-details\"]'\n",
    "    search_result_elements = driver.find_elements_by_xpath(xp)\n",
    "    screenings = []\n",
    "    \n",
    "    if len(search_result_elements) > max_screenings:\n",
    "        print(\"WARNING: Film '%s' has more than %d screening times.\"\n",
    "              \"Only 4 will be saved\" % (film_title, max_screenings))\n",
    "\n",
    "    for element in search_result_elements:\n",
    "        \n",
    "        start_date_string = element.find_element_by_class_name('item-start-date') \\\n",
    "                            .find_element_by_class_name('start-date').text\n",
    "        venue = element.find_element_by_class_name('item-venue').text\n",
    "        \n",
    "        screenings.append({\n",
    "                'Start date': pd.to_datetime(start_date_string),\n",
    "                'Venue': venue\n",
    "            })\n",
    "    \n",
    "    film_details = {\n",
    "        'Title': film_title,\n",
    "        'Information': film_info,\n",
    "        'Description': film_description,\n",
    "        'Screenings': screenings\n",
    "    }\n",
    "    \n",
    "    return film_details"
   ]
  },
  {
   "cell_type": "code",
   "execution_count": 6,
   "metadata": {
    "collapsed": false
   },
   "outputs": [
    {
     "name": "stdout",
     "output_type": "stream",
     "text": [
      "Data from 355 films found in data file.\n"
     ]
    }
   ],
   "source": [
    "# Prepare dictionary to collect the film information\n",
    "year = pd.datetime.now().date().year\n",
    "data_filename = \"viff_data_%d_2.pickle\" % year\n",
    "try:\n",
    "    with open(data_filename, 'rb') as f:\n",
    "        films = pickle.load(f)\n",
    "except:\n",
    "    films = {}\n",
    "else:\n",
    "    print(\"Data from %d films found in data file.\" % len(films))"
   ]
  },
  {
   "cell_type": "code",
   "execution_count": 7,
   "metadata": {
    "collapsed": false
   },
   "outputs": [
    {
     "name": "stdout",
     "output_type": "stream",
     "text": [
      "loading each film page to extract information...\n"
     ]
    }
   ],
   "source": [
    "# ----------------- MAIN LOOP -----------------\n",
    "print(\"loading each film page to extract information...\")\n",
    "\n",
    "# Set number of films to parse each time (None for all)\n",
    "batch = 10\n",
    "\n",
    "already_done = list(films.keys())\n",
    "total_count = len(films)\n",
    "max_screenings = 3\n",
    "\n",
    "film_page_links[2]\n",
    "for page_link in film_page_links:\n",
    "    \n",
    "    title, link = page_link['text'], page_link['href']\n",
    "\n",
    "    # Skip if already in films dictionary\n",
    "    if title in already_done:\n",
    "        continue\n",
    "\n",
    "    # Convert link to a complete url\n",
    "    page_url = convert_link_to_url(link)\n",
    "    \n",
    "    # Get film information\n",
    "    driver.get(page_url)\n",
    "    film_details = get_film_details(driver)\n",
    "    \n",
    "    if film_details is None:\n",
    "        # Skip this film\n",
    "        continue\n",
    "\n",
    "    if film_details['Title'] != title:\n",
    "        print(\"WARNING: Title for film '%s' does not match link.\" % title)\n",
    "    \n",
    "    films[title] = film_details\n",
    "    print(\" %4d: %s\" % (total_count, film_details['Title']))\n",
    "\n",
    "    total_count += 1\n",
    "    if batch:\n",
    "        batch -= 1\n",
    "        if batch < 1:\n",
    "            break"
   ]
  },
  {
   "cell_type": "code",
   "execution_count": 8,
   "metadata": {
    "collapsed": false
   },
   "outputs": [
    {
     "name": "stdout",
     "output_type": "stream",
     "text": [
      "\n",
      "Information on 355 films now acquired.\n",
      "Results saved to file 'viff_data_2018_2.pickle'.\n",
      "Closing Selenium web-page driver...\n"
     ]
    }
   ],
   "source": [
    "print(\"\\nInformation on %d films now acquired.\" % len(films))\n",
    "\n",
    "# Now save the film records to an excel file\n",
    "with open(data_filename, 'wb') as f:\n",
    "    pickle.dump(films, f)\n",
    "print(\"Results saved to file '%s'.\" % data_filename)\n",
    "\n",
    "print(\"Closing Selenium web-page driver...\")\n",
    "driver.close()"
   ]
  },
  {
   "cell_type": "code",
   "execution_count": 9,
   "metadata": {
    "collapsed": false,
    "scrolled": true
   },
   "outputs": [
    {
     "data": {
      "text/html": [
       "<div>\n",
       "<style scoped>\n",
       "    .dataframe tbody tr th:only-of-type {\n",
       "        vertical-align: middle;\n",
       "    }\n",
       "\n",
       "    .dataframe tbody tr th {\n",
       "        vertical-align: top;\n",
       "    }\n",
       "\n",
       "    .dataframe thead th {\n",
       "        text-align: right;\n",
       "    }\n",
       "</style>\n",
       "<table border=\"1\" class=\"dataframe\">\n",
       "  <thead>\n",
       "    <tr style=\"text-align: right;\">\n",
       "      <th></th>\n",
       "      <th>Title</th>\n",
       "      <th>Country of Origin</th>\n",
       "      <th>Description</th>\n",
       "      <th>Director</th>\n",
       "      <th>Language</th>\n",
       "      <th>Running Time</th>\n",
       "      <th>Screening date 1</th>\n",
       "      <th>Screening date 2</th>\n",
       "      <th>Screening date 3</th>\n",
       "      <th>Screening venue 1</th>\n",
       "      <th>Screening venue 2</th>\n",
       "      <th>Screening venue 3</th>\n",
       "      <th>Year</th>\n",
       "    </tr>\n",
       "  </thead>\n",
       "  <tbody>\n",
       "    <tr>\n",
       "      <th>0</th>\n",
       "      <td>Unearthing. In Conversation</td>\n",
       "      <td>Austria</td>\n",
       "      <td>Traversing the intersection of theory and art ...</td>\n",
       "      <td>Belinda Kazeem-Kamiński</td>\n",
       "      <td>NaN</td>\n",
       "      <td>13 mins</td>\n",
       "      <td>2018-10-02 18:15:00</td>\n",
       "      <td>2018-10-07 14:00:00</td>\n",
       "      <td>NaT</td>\n",
       "      <td>Vancity Theatre</td>\n",
       "      <td>Vancity Theatre</td>\n",
       "      <td>NaN</td>\n",
       "      <td>2017</td>\n",
       "    </tr>\n",
       "    <tr>\n",
       "      <th>1</th>\n",
       "      <td>Microhabitat</td>\n",
       "      <td>South Korea</td>\n",
       "      <td>If your rent goes up, do you give up 1) cigare...</td>\n",
       "      <td>Jeon Gowoon</td>\n",
       "      <td>In Korean with English subtitles</td>\n",
       "      <td>106 mins</td>\n",
       "      <td>2018-09-30 18:30:00</td>\n",
       "      <td>2018-10-02 16:00:00</td>\n",
       "      <td>NaT</td>\n",
       "      <td>International Village 9</td>\n",
       "      <td>International Village 9</td>\n",
       "      <td>NaN</td>\n",
       "      <td>2017</td>\n",
       "    </tr>\n",
       "    <tr>\n",
       "      <th>2</th>\n",
       "      <td>Winter Flies</td>\n",
       "      <td>Czech Republic</td>\n",
       "      <td>Stand By Me meets Y Tu Mamá También on a stret...</td>\n",
       "      <td>Olmo Omerzu</td>\n",
       "      <td>In Czech with English subtitles</td>\n",
       "      <td>85 mins</td>\n",
       "      <td>2018-10-05 18:45:00</td>\n",
       "      <td>2018-10-11 10:45:00</td>\n",
       "      <td>NaT</td>\n",
       "      <td>SFU Goldcorp</td>\n",
       "      <td>SFU Goldcorp</td>\n",
       "      <td>NaN</td>\n",
       "      <td>2018</td>\n",
       "    </tr>\n",
       "    <tr>\n",
       "      <th>3</th>\n",
       "      <td>First Generation</td>\n",
       "      <td>USA</td>\n",
       "      <td>A teen Vietnamese-American girl, confused by m...</td>\n",
       "      <td>Jeannie Nguyen</td>\n",
       "      <td>NaN</td>\n",
       "      <td>9 mins</td>\n",
       "      <td>2018-10-04 11:00:00</td>\n",
       "      <td>2018-10-07 18:00:00</td>\n",
       "      <td>NaT</td>\n",
       "      <td>International Village 9</td>\n",
       "      <td>International Village 9</td>\n",
       "      <td>NaN</td>\n",
       "      <td>2017</td>\n",
       "    </tr>\n",
       "    <tr>\n",
       "      <th>4</th>\n",
       "      <td>Carmine Street Guitars</td>\n",
       "      <td>Canada</td>\n",
       "      <td>Nestled in Greenwich Village, Carmine Street G...</td>\n",
       "      <td>Ron Mann</td>\n",
       "      <td>NaN</td>\n",
       "      <td>80 mins</td>\n",
       "      <td>2018-10-02 18:15:00</td>\n",
       "      <td>2018-10-07 16:30:00</td>\n",
       "      <td>NaT</td>\n",
       "      <td>Rio Theatre</td>\n",
       "      <td>SFU Goldcorp</td>\n",
       "      <td>NaN</td>\n",
       "      <td>2018</td>\n",
       "    </tr>\n",
       "  </tbody>\n",
       "</table>\n",
       "</div>"
      ],
      "text/plain": [
       "                         Title Country of Origin  \\\n",
       "0  Unearthing. In Conversation           Austria   \n",
       "1                 Microhabitat       South Korea   \n",
       "2                 Winter Flies    Czech Republic   \n",
       "3             First Generation               USA   \n",
       "4       Carmine Street Guitars            Canada   \n",
       "\n",
       "                                         Description                 Director  \\\n",
       "0  Traversing the intersection of theory and art ...  Belinda Kazeem-Kamiński   \n",
       "1  If your rent goes up, do you give up 1) cigare...              Jeon Gowoon   \n",
       "2  Stand By Me meets Y Tu Mamá También on a stret...              Olmo Omerzu   \n",
       "3  A teen Vietnamese-American girl, confused by m...           Jeannie Nguyen   \n",
       "4  Nestled in Greenwich Village, Carmine Street G...                 Ron Mann   \n",
       "\n",
       "                           Language Running Time    Screening date 1  \\\n",
       "0                               NaN      13 mins 2018-10-02 18:15:00   \n",
       "1  In Korean with English subtitles     106 mins 2018-09-30 18:30:00   \n",
       "2   In Czech with English subtitles      85 mins 2018-10-05 18:45:00   \n",
       "3                               NaN       9 mins 2018-10-04 11:00:00   \n",
       "4                               NaN      80 mins 2018-10-02 18:15:00   \n",
       "\n",
       "     Screening date 2 Screening date 3        Screening venue 1  \\\n",
       "0 2018-10-07 14:00:00              NaT          Vancity Theatre   \n",
       "1 2018-10-02 16:00:00              NaT  International Village 9   \n",
       "2 2018-10-11 10:45:00              NaT             SFU Goldcorp   \n",
       "3 2018-10-07 18:00:00              NaT  International Village 9   \n",
       "4 2018-10-07 16:30:00              NaT              Rio Theatre   \n",
       "\n",
       "         Screening venue 2 Screening venue 3  Year  \n",
       "0          Vancity Theatre               NaN  2017  \n",
       "1  International Village 9               NaN  2017  \n",
       "2             SFU Goldcorp               NaN  2018  \n",
       "3  International Village 9               NaN  2017  \n",
       "4             SFU Goldcorp               NaN  2018  "
      ]
     },
     "execution_count": 9,
     "metadata": {},
     "output_type": "execute_result"
    }
   ],
   "source": [
    "# Move data into pandas dataframe\n",
    "info_cols = set()\n",
    "data = dict()\n",
    "\n",
    "for film in films: \n",
    "    for key in films[film]['Information']:\n",
    "        info_cols = info_cols.union([key])\n",
    "\n",
    "max_screenings = max([len(details['Screenings']) for \n",
    "                      details in films.values()])\n",
    "\n",
    "date_cols = set([\"Screening date %d\" % (i + 1) for i in range(max_screenings)])\n",
    "venue_cols = set([\"Screening venue %d\" % (i + 1) for i in range(max_screenings)])\n",
    "\n",
    "# Add an empty list to dictionary for each series expected\n",
    "for column in info_cols.union(date_cols).union(venue_cols):\n",
    "    data[column] = []\n",
    "data['Description'] = []\n",
    "data['Title'] = []\n",
    "\n",
    "for film in films:\n",
    "    data['Title'].append(film)\n",
    "    for col in info_cols:\n",
    "        try:\n",
    "            data[col].append(films[film]['Information'][col])\n",
    "        except KeyError:\n",
    "            data[col].append(np.nan)\n",
    "    data['Description'].append(films[film]['Description'])\n",
    "    for i, cols in enumerate(zip(date_cols, venue_cols)):\n",
    "        try:\n",
    "            data[cols[0]].append(films[film]['Screenings'][i]['Start date'])\n",
    "            data[cols[1]].append(films[film]['Screenings'][i]['Venue'])\n",
    "        except IndexError:\n",
    "            data[cols[0]].append(np.nan)\n",
    "            data[cols[1]].append(np.nan)\n",
    "\n",
    "# Dataframe from data\n",
    "df = pd.DataFrame(data=data)\n",
    "\n",
    "# Re-order so title column is first\n",
    "new_columns = list(df.columns.values)\n",
    "new_columns.remove('Title')\n",
    "new_columns = ['Title'] + new_columns\n",
    "df = df[new_columns]\n",
    "\n",
    "df.head()"
   ]
  },
  {
   "cell_type": "code",
   "execution_count": 10,
   "metadata": {
    "collapsed": false
   },
   "outputs": [
    {
     "name": "stdout",
     "output_type": "stream",
     "text": [
      "Saving results to Excel file 'VIFF2018_all_with_dates.xls'\n",
      "Finished.\n"
     ]
    }
   ],
   "source": [
    "excel_output_filename = \"VIFF%d_all_with_dates.xls\" % year\n",
    "print(\"Saving results to Excel file '%s'\" % excel_output_filename)\n",
    "\n",
    "# Save to excel\n",
    "df.to_excel(excel_output_filename)\n",
    "\n",
    "print(\"Finished.\")"
   ]
  },
  {
   "cell_type": "markdown",
   "metadata": {},
   "source": [
    "## Do some fun analysis"
   ]
  },
  {
   "cell_type": "code",
   "execution_count": 1103,
   "metadata": {
    "collapsed": false
   },
   "outputs": [
    {
     "data": {
      "text/plain": [
       "355"
      ]
     },
     "execution_count": 1103,
     "metadata": {},
     "output_type": "execute_result"
    }
   ],
   "source": [
    "# Load films from file\n",
    "data_filename = \"viff_data_%d_2.pickle\" % year\n",
    "try:\n",
    "    with open(data_filename, 'rb') as f:\n",
    "        films = pickle.load(f)\n",
    "except:\n",
    "    films = {}\n",
    "len(films)"
   ]
  },
  {
   "cell_type": "code",
   "execution_count": 1104,
   "metadata": {
    "collapsed": false
   },
   "outputs": [],
   "source": [
    "title_text = ' '.join([film for film in films])"
   ]
  },
  {
   "cell_type": "code",
   "execution_count": 1105,
   "metadata": {
    "collapsed": false
   },
   "outputs": [],
   "source": [
    "def count_words(text, exclude_words=None, strip_chars='()-_:[]{}&\" '):\n",
    "\n",
    "    words = text.split()\n",
    "    word_tally = {}\n",
    "    for word in words:\n",
    "        word_lower = word.lower().strip(strip_chars)\n",
    "        if word_lower:\n",
    "            word_tally[word_lower] = word_tally.get(word_lower, 0) + 1\n",
    "\n",
    "    if exclude_words is not None:\n",
    "        for word in exclude_words:\n",
    "            if word.lower() in word_tally:\n",
    "                del(word_tally[word])\n",
    "    \n",
    "    return word_tally"
   ]
  },
  {
   "cell_type": "code",
   "execution_count": 1106,
   "metadata": {
    "collapsed": false
   },
   "outputs": [
    {
     "name": "stdout",
     "output_type": "stream",
     "text": [
      "my, the, of, a, and, in, is, at, an, you, what, on, la, to, i, it, from, their, are, or, 1, 2, 3, with, as, that, for, by, this, it, has, his, her, he, she, they, our, your, ours, yours, but, it’s, its, be, was, isn’t, not, into, up, not, have, who, all, also, us, out, so, we, between, while, which, been, these, than\n"
     ]
    }
   ],
   "source": [
    "exclude_words = ['my', 'the', 'of', 'a', 'and', 'in', 'is', 'at', 'an', 'you', 'what', 'on', \n",
    "                 'la', 'to', 'i', 'it', 'from', 'their', 'are', 'or',\n",
    "                 '1', '2', '3', 'with', 'as', 'that', 'for', 'by', 'this', 'it', 'has', \n",
    "                 'his', 'her', 'he', 'she', 'they', 'our', 'your', 'ours', 'yours', 'but',\n",
    "                 u'it\\u2019s', 'its', 'be', 'was', u'isn\\u2019t', 'not', 'into', 'up', \n",
    "                 'not', 'have', 'who', 'all', 'also', 'us', 'out', 'so', 'we', 'between', \n",
    "                 'while', 'which', 'been', 'these', 'than']\n",
    "print(', '.join(exclude_words))"
   ]
  },
  {
   "cell_type": "code",
   "execution_count": 1107,
   "metadata": {
    "collapsed": false
   },
   "outputs": [],
   "source": [
    "word_tally = count_words(title_text, exclude_words=exclude_words)"
   ]
  },
  {
   "cell_type": "code",
   "execution_count": 1108,
   "metadata": {
    "collapsed": false
   },
   "outputs": [
    {
     "data": {
      "text/plain": [
       "shock             6\n",
       "waves             6\n",
       "war               6\n",
       "house             5\n",
       "life              4\n",
       "quantification    4\n",
       "under             4\n",
       "trilogy           4\n",
       "room              4\n",
       "street            4\n",
       "dtype: int64"
      ]
     },
     "execution_count": 1108,
     "metadata": {},
     "output_type": "execute_result"
    }
   ],
   "source": [
    "pd.Series(word_tally).sort_values(ascending=False).head(10)"
   ]
  },
  {
   "cell_type": "code",
   "execution_count": 1109,
   "metadata": {
    "collapsed": false
   },
   "outputs": [
    {
     "name": "stdout",
     "output_type": "stream",
     "text": [
      "shock, waves, war, house, life, quantification, under, trilogy, room, street\n"
     ]
    }
   ],
   "source": [
    "top10 = pd.Series(word_tally).sort_values(ascending=False).head(10).index.values.tolist()\n",
    "print(', '.join(top10))"
   ]
  },
  {
   "cell_type": "code",
   "execution_count": 1110,
   "metadata": {
    "collapsed": false
   },
   "outputs": [
    {
     "name": "stdout",
     "output_type": "stream",
     "text": [
      "\n",
      "shock:\n",
      " Shock Waves: Diary of My Mind\n",
      " Shock Waves: The Valley\n",
      " Shock Waves: First Name Mathieu\n",
      " Shock Waves: Sirius\n",
      " Shock Waves: Program 1 & 2\n",
      " Shock Waves: Program 3 & 4\n",
      "\n",
      "waves:\n",
      " Shock Waves: Diary of My Mind\n",
      " Shock Waves: The Valley\n",
      " Shock Waves: First Name Mathieu\n",
      " Shock Waves: Sirius\n",
      " Shock Waves: Program 1 & 2\n",
      " Shock Waves: Program 3 & 4\n",
      "\n",
      "war:\n",
      " At War\n",
      " Theatre of War\n",
      " Woman at War\n",
      " A Private War\n",
      " Memoir of War\n",
      " Cold War\n",
      "\n",
      "house:\n",
      " A Dreaming House\n",
      " Open House\n",
      " Julio Iglesias's House\n",
      " The Wolf House\n",
      " The House That Jack Built\n",
      "\n",
      "life:\n",
      " Another Day of Life\n",
      " Bergman - A Year in a Life\n",
      " This Mountain Life\n",
      " My Life Is a Joke\n",
      "\n",
      "quantification:\n",
      " Quantification Trilogy- Liminals\n",
      " Quantification Trilogy\n",
      " Quantification Trilogy - Quickeners\n",
      " Quantification Trilogy - I Can See Forever\n",
      "\n",
      "under:\n",
      " Under the Viaduct\n",
      " Dreaming Under Capitalism + The Washing Society\n",
      " Dreaming Under Capitalism\n",
      " Under the Silver Lake\n",
      "\n",
      "trilogy:\n",
      " Quantification Trilogy- Liminals\n",
      " Quantification Trilogy\n",
      " Quantification Trilogy - Quickeners\n",
      " Quantification Trilogy - I Can See Forever\n",
      "\n",
      "room:\n",
      " A Room with a Coconut View\n",
      " Maybe if It Were a Nice Room\n",
      " In My Room (Germany\n",
      " In My Room (Israel\n",
      "\n",
      "street:\n",
      " Carmine Street Guitars\n",
      " From Across the Street and Through Two Sets of Windows\n",
      " The Beetle at the End of the Street\n",
      " No. 1 Chung Ying Street\n"
     ]
    }
   ],
   "source": [
    "for word in top10:\n",
    "    print(\"\\n%s:\" % word)\n",
    "    print(' ' + '\\n '.join([film.strip('()-_:[]{} ') for film in films if (word in film.lower())]))"
   ]
  },
  {
   "cell_type": "code",
   "execution_count": 1111,
   "metadata": {
    "collapsed": false
   },
   "outputs": [
    {
     "data": {
      "text/plain": [
       "352834"
      ]
     },
     "execution_count": 1111,
     "metadata": {},
     "output_type": "execute_result"
    }
   ],
   "source": [
    "description_text = ' '.join([item['Description'] for item in films.values() if item['Description'] is not None])\n",
    "len(description_text)"
   ]
  },
  {
   "cell_type": "code",
   "execution_count": 1112,
   "metadata": {
    "collapsed": true
   },
   "outputs": [],
   "source": [
    "word_tally = count_words(description_text, exclude_words=exclude_words)"
   ]
  },
  {
   "cell_type": "code",
   "execution_count": 1113,
   "metadata": {
    "collapsed": false
   },
   "outputs": [
    {
     "data": {
      "text/plain": [
       "film        246\n",
       "one         142\n",
       "about       130\n",
       "when        118\n",
       "through      89\n",
       "more         89\n",
       "life         86\n",
       "new          83\n",
       "own          82\n",
       "world        76\n",
       "can          75\n",
       "where        73\n",
       "director     71\n",
       "two          70\n",
       "only         61\n",
       "young        60\n",
       "how          60\n",
       "like         59\n",
       "most         58\n",
       "first        58\n",
       "dtype: int64"
      ]
     },
     "execution_count": 1113,
     "metadata": {},
     "output_type": "execute_result"
    }
   ],
   "source": [
    "pd.Series(word_tally).sort_values(ascending=False).head(20)"
   ]
  },
  {
   "cell_type": "markdown",
   "metadata": {},
   "source": [
    "## Use screening times to build a viewing schedule"
   ]
  },
  {
   "cell_type": "code",
   "execution_count": 1,
   "metadata": {
    "collapsed": true
   },
   "outputs": [],
   "source": [
    "import pickle\n",
    "import pandas as pd\n",
    "import numpy as np\n",
    "import matplotlib.pyplot as plt"
   ]
  },
  {
   "cell_type": "code",
   "execution_count": 2,
   "metadata": {
    "collapsed": false
   },
   "outputs": [],
   "source": [
    "# Load films from file\n",
    "year = pd.datetime.now().date().year\n",
    "data_filename = \"viff_data_%d_2.pickle\" % year\n",
    "try:\n",
    "    with open(data_filename, 'rb') as f:\n",
    "        films = pickle.load(f)\n",
    "except:\n",
    "    films = {}"
   ]
  },
  {
   "cell_type": "code",
   "execution_count": 3,
   "metadata": {
    "collapsed": false
   },
   "outputs": [
    {
     "name": "stdout",
     "output_type": "stream",
     "text": [
      "Dreaming Under Capitalism + The Washing Society\n",
      "Ash Is Purest White\n",
      "The Washing Society\n"
     ]
    }
   ],
   "source": [
    "# Find films based on a word:\n",
    "word = \"Ash\"\n",
    "print('\\n'.join([film.strip('()-_:[]{} ') for film in films if (word.lower() in film.lower())]))"
   ]
  },
  {
   "cell_type": "code",
   "execution_count": 4,
   "metadata": {
    "collapsed": false
   },
   "outputs": [
    {
     "data": {
      "text/plain": [
       "Timedelta('0 days 02:00:00')"
      ]
     },
     "execution_count": 4,
     "metadata": {},
     "output_type": "execute_result"
    }
   ],
   "source": [
    "film_duration_allowance = pd.Timedelta('2H')\n",
    "film_duration_allowance"
   ]
  },
  {
   "cell_type": "code",
   "execution_count": 5,
   "metadata": {
    "collapsed": true
   },
   "outputs": [],
   "source": [
    "desired_films = {\n",
    "    1: ['All Good', 'Happy as Lazzaro', 'Cold War', 'Burning', 'The Wild Pear Tree', \n",
    "        \"It's Boring Here, Pick Me Up\", 'Shoplifters', 'Jinpa', 'Daughter of Mine', 'Last Summer'],\n",
    "    2: ['In the Aisles', 'The Favourite', 'Winter Flies', 'Woman at War', \n",
    "        'Sicilian Ghost Story', 'Birds of Passage', 'Ash Is Purest White'],\n",
    "    3: ['Dovlatov', \"Long Day's Journey Into Night\", 'Capernaum']\n",
    "}"
   ]
  },
  {
   "cell_type": "code",
   "execution_count": 6,
   "metadata": {
    "collapsed": false
   },
   "outputs": [
    {
     "data": {
      "text/plain": [
       "17"
      ]
     },
     "execution_count": 6,
     "metadata": {},
     "output_type": "execute_result"
    }
   ],
   "source": [
    "selected_films = desired_films[1] + desired_films[2]\n",
    "n_films = len(selected_films)\n",
    "n_films"
   ]
  },
  {
   "cell_type": "code",
   "execution_count": 7,
   "metadata": {
    "collapsed": false
   },
   "outputs": [],
   "source": [
    "selected_film_screenings = {}\n",
    "for film in selected_films:\n",
    "    selected_film_screenings[film] = \\\n",
    "        [screening['Start date'] for screening in films[film]['Screenings']]"
   ]
  },
  {
   "cell_type": "code",
   "execution_count": 8,
   "metadata": {
    "collapsed": false
   },
   "outputs": [
    {
     "data": {
      "text/plain": [
       "(Timestamp('2018-09-27 21:00:00'), Timestamp('2018-10-09 21:00:00'))"
      ]
     },
     "execution_count": 8,
     "metadata": {},
     "output_type": "execute_result"
    }
   ],
   "source": [
    "earliest_start_time = np.min([np.min(screenings) for screenings in selected_film_screenings.values()])\n",
    "latest_end_time = np.max([np.min(screenings) for screenings in selected_film_screenings.values()]) + film_duration_allowance\n",
    "\n",
    "earliest_start_time, latest_end_time"
   ]
  },
  {
   "cell_type": "code",
   "execution_count": 9,
   "metadata": {
    "collapsed": false
   },
   "outputs": [],
   "source": [
    "full_time_period = pd.date_range(earliest_start_time, latest_end_time, freq='15 min')"
   ]
  },
  {
   "cell_type": "code",
   "execution_count": 10,
   "metadata": {
    "collapsed": false
   },
   "outputs": [
    {
     "data": {
      "text/plain": [
       "17"
      ]
     },
     "execution_count": 10,
     "metadata": {},
     "output_type": "execute_result"
    }
   ],
   "source": [
    "film_times = {}\n",
    "full_time_period = pd.date_range(earliest_start_time, latest_end_time, freq='15 min')\n",
    "for film in selected_films:\n",
    "    showing_times = []\n",
    "    for start_time in selected_film_screenings[film]:\n",
    "        all_times = pd.Series(False, index=list(full_time_period), dtype=bool)\n",
    "        all_times[start_time:(start_time + film_duration_allowance)] = True\n",
    "        showing_times.append(all_times)\n",
    "    film_times[film] = showing_times\n",
    "len(film_times)"
   ]
  },
  {
   "cell_type": "code",
   "execution_count": 11,
   "metadata": {
    "collapsed": false
   },
   "outputs": [
    {
     "data": {
      "text/html": [
       "<div>\n",
       "<style scoped>\n",
       "    .dataframe tbody tr th:only-of-type {\n",
       "        vertical-align: middle;\n",
       "    }\n",
       "\n",
       "    .dataframe tbody tr th {\n",
       "        vertical-align: top;\n",
       "    }\n",
       "\n",
       "    .dataframe thead th {\n",
       "        text-align: right;\n",
       "    }\n",
       "</style>\n",
       "<table border=\"1\" class=\"dataframe\">\n",
       "  <thead>\n",
       "    <tr style=\"text-align: right;\">\n",
       "      <th></th>\n",
       "      <th></th>\n",
       "      <th>2018-09-27 21:00:00</th>\n",
       "      <th>2018-09-27 21:15:00</th>\n",
       "      <th>2018-09-27 21:30:00</th>\n",
       "      <th>2018-09-27 21:45:00</th>\n",
       "      <th>2018-09-27 22:00:00</th>\n",
       "      <th>2018-09-27 22:15:00</th>\n",
       "      <th>2018-09-27 22:30:00</th>\n",
       "      <th>2018-09-27 22:45:00</th>\n",
       "      <th>2018-09-27 23:00:00</th>\n",
       "      <th>2018-09-27 23:15:00</th>\n",
       "      <th>...</th>\n",
       "      <th>2018-10-09 18:45:00</th>\n",
       "      <th>2018-10-09 19:00:00</th>\n",
       "      <th>2018-10-09 19:15:00</th>\n",
       "      <th>2018-10-09 19:30:00</th>\n",
       "      <th>2018-10-09 19:45:00</th>\n",
       "      <th>2018-10-09 20:00:00</th>\n",
       "      <th>2018-10-09 20:15:00</th>\n",
       "      <th>2018-10-09 20:30:00</th>\n",
       "      <th>2018-10-09 20:45:00</th>\n",
       "      <th>2018-10-09 21:00:00</th>\n",
       "    </tr>\n",
       "    <tr>\n",
       "      <th>Film</th>\n",
       "      <th>Screening</th>\n",
       "      <th></th>\n",
       "      <th></th>\n",
       "      <th></th>\n",
       "      <th></th>\n",
       "      <th></th>\n",
       "      <th></th>\n",
       "      <th></th>\n",
       "      <th></th>\n",
       "      <th></th>\n",
       "      <th></th>\n",
       "      <th></th>\n",
       "      <th></th>\n",
       "      <th></th>\n",
       "      <th></th>\n",
       "      <th></th>\n",
       "      <th></th>\n",
       "      <th></th>\n",
       "      <th></th>\n",
       "      <th></th>\n",
       "      <th></th>\n",
       "      <th></th>\n",
       "    </tr>\n",
       "  </thead>\n",
       "  <tbody>\n",
       "    <tr>\n",
       "      <th rowspan=\"2\" valign=\"top\">All Good</th>\n",
       "      <th>0</th>\n",
       "      <td>False</td>\n",
       "      <td>False</td>\n",
       "      <td>False</td>\n",
       "      <td>False</td>\n",
       "      <td>False</td>\n",
       "      <td>False</td>\n",
       "      <td>False</td>\n",
       "      <td>False</td>\n",
       "      <td>False</td>\n",
       "      <td>False</td>\n",
       "      <td>...</td>\n",
       "      <td>False</td>\n",
       "      <td>False</td>\n",
       "      <td>False</td>\n",
       "      <td>False</td>\n",
       "      <td>False</td>\n",
       "      <td>False</td>\n",
       "      <td>False</td>\n",
       "      <td>False</td>\n",
       "      <td>False</td>\n",
       "      <td>False</td>\n",
       "    </tr>\n",
       "    <tr>\n",
       "      <th>1</th>\n",
       "      <td>False</td>\n",
       "      <td>False</td>\n",
       "      <td>False</td>\n",
       "      <td>False</td>\n",
       "      <td>False</td>\n",
       "      <td>False</td>\n",
       "      <td>False</td>\n",
       "      <td>False</td>\n",
       "      <td>False</td>\n",
       "      <td>False</td>\n",
       "      <td>...</td>\n",
       "      <td>False</td>\n",
       "      <td>False</td>\n",
       "      <td>False</td>\n",
       "      <td>False</td>\n",
       "      <td>False</td>\n",
       "      <td>False</td>\n",
       "      <td>False</td>\n",
       "      <td>False</td>\n",
       "      <td>False</td>\n",
       "      <td>False</td>\n",
       "    </tr>\n",
       "    <tr>\n",
       "      <th rowspan=\"2\" valign=\"top\">Happy as Lazzaro</th>\n",
       "      <th>0</th>\n",
       "      <td>False</td>\n",
       "      <td>False</td>\n",
       "      <td>False</td>\n",
       "      <td>False</td>\n",
       "      <td>False</td>\n",
       "      <td>False</td>\n",
       "      <td>False</td>\n",
       "      <td>False</td>\n",
       "      <td>False</td>\n",
       "      <td>False</td>\n",
       "      <td>...</td>\n",
       "      <td>False</td>\n",
       "      <td>False</td>\n",
       "      <td>False</td>\n",
       "      <td>False</td>\n",
       "      <td>False</td>\n",
       "      <td>False</td>\n",
       "      <td>False</td>\n",
       "      <td>False</td>\n",
       "      <td>False</td>\n",
       "      <td>False</td>\n",
       "    </tr>\n",
       "    <tr>\n",
       "      <th>1</th>\n",
       "      <td>False</td>\n",
       "      <td>False</td>\n",
       "      <td>False</td>\n",
       "      <td>False</td>\n",
       "      <td>False</td>\n",
       "      <td>False</td>\n",
       "      <td>False</td>\n",
       "      <td>False</td>\n",
       "      <td>False</td>\n",
       "      <td>False</td>\n",
       "      <td>...</td>\n",
       "      <td>False</td>\n",
       "      <td>False</td>\n",
       "      <td>False</td>\n",
       "      <td>False</td>\n",
       "      <td>False</td>\n",
       "      <td>False</td>\n",
       "      <td>False</td>\n",
       "      <td>False</td>\n",
       "      <td>False</td>\n",
       "      <td>True</td>\n",
       "    </tr>\n",
       "    <tr>\n",
       "      <th>Cold War</th>\n",
       "      <th>0</th>\n",
       "      <td>False</td>\n",
       "      <td>False</td>\n",
       "      <td>False</td>\n",
       "      <td>False</td>\n",
       "      <td>False</td>\n",
       "      <td>False</td>\n",
       "      <td>False</td>\n",
       "      <td>False</td>\n",
       "      <td>False</td>\n",
       "      <td>False</td>\n",
       "      <td>...</td>\n",
       "      <td>False</td>\n",
       "      <td>False</td>\n",
       "      <td>False</td>\n",
       "      <td>False</td>\n",
       "      <td>False</td>\n",
       "      <td>False</td>\n",
       "      <td>False</td>\n",
       "      <td>False</td>\n",
       "      <td>False</td>\n",
       "      <td>False</td>\n",
       "    </tr>\n",
       "  </tbody>\n",
       "</table>\n",
       "<p>5 rows × 1153 columns</p>\n",
       "</div>"
      ],
      "text/plain": [
       "                            2018-09-27 21:00:00  2018-09-27 21:15:00  \\\n",
       "Film             Screening                                             \n",
       "All Good         0                        False                False   \n",
       "                 1                        False                False   \n",
       "Happy as Lazzaro 0                        False                False   \n",
       "                 1                        False                False   \n",
       "Cold War         0                        False                False   \n",
       "\n",
       "                            2018-09-27 21:30:00  2018-09-27 21:45:00  \\\n",
       "Film             Screening                                             \n",
       "All Good         0                        False                False   \n",
       "                 1                        False                False   \n",
       "Happy as Lazzaro 0                        False                False   \n",
       "                 1                        False                False   \n",
       "Cold War         0                        False                False   \n",
       "\n",
       "                            2018-09-27 22:00:00  2018-09-27 22:15:00  \\\n",
       "Film             Screening                                             \n",
       "All Good         0                        False                False   \n",
       "                 1                        False                False   \n",
       "Happy as Lazzaro 0                        False                False   \n",
       "                 1                        False                False   \n",
       "Cold War         0                        False                False   \n",
       "\n",
       "                            2018-09-27 22:30:00  2018-09-27 22:45:00  \\\n",
       "Film             Screening                                             \n",
       "All Good         0                        False                False   \n",
       "                 1                        False                False   \n",
       "Happy as Lazzaro 0                        False                False   \n",
       "                 1                        False                False   \n",
       "Cold War         0                        False                False   \n",
       "\n",
       "                            2018-09-27 23:00:00  2018-09-27 23:15:00  \\\n",
       "Film             Screening                                             \n",
       "All Good         0                        False                False   \n",
       "                 1                        False                False   \n",
       "Happy as Lazzaro 0                        False                False   \n",
       "                 1                        False                False   \n",
       "Cold War         0                        False                False   \n",
       "\n",
       "                                   ...           2018-10-09 18:45:00  \\\n",
       "Film             Screening         ...                                 \n",
       "All Good         0                 ...                         False   \n",
       "                 1                 ...                         False   \n",
       "Happy as Lazzaro 0                 ...                         False   \n",
       "                 1                 ...                         False   \n",
       "Cold War         0                 ...                         False   \n",
       "\n",
       "                            2018-10-09 19:00:00  2018-10-09 19:15:00  \\\n",
       "Film             Screening                                             \n",
       "All Good         0                        False                False   \n",
       "                 1                        False                False   \n",
       "Happy as Lazzaro 0                        False                False   \n",
       "                 1                        False                False   \n",
       "Cold War         0                        False                False   \n",
       "\n",
       "                            2018-10-09 19:30:00  2018-10-09 19:45:00  \\\n",
       "Film             Screening                                             \n",
       "All Good         0                        False                False   \n",
       "                 1                        False                False   \n",
       "Happy as Lazzaro 0                        False                False   \n",
       "                 1                        False                False   \n",
       "Cold War         0                        False                False   \n",
       "\n",
       "                            2018-10-09 20:00:00  2018-10-09 20:15:00  \\\n",
       "Film             Screening                                             \n",
       "All Good         0                        False                False   \n",
       "                 1                        False                False   \n",
       "Happy as Lazzaro 0                        False                False   \n",
       "                 1                        False                False   \n",
       "Cold War         0                        False                False   \n",
       "\n",
       "                            2018-10-09 20:30:00  2018-10-09 20:45:00  \\\n",
       "Film             Screening                                             \n",
       "All Good         0                        False                False   \n",
       "                 1                        False                False   \n",
       "Happy as Lazzaro 0                        False                False   \n",
       "                 1                        False                False   \n",
       "Cold War         0                        False                False   \n",
       "\n",
       "                            2018-10-09 21:00:00  \n",
       "Film             Screening                       \n",
       "All Good         0                        False  \n",
       "                 1                        False  \n",
       "Happy as Lazzaro 0                        False  \n",
       "                 1                         True  \n",
       "Cold War         0                        False  \n",
       "\n",
       "[5 rows x 1153 columns]"
      ]
     },
     "execution_count": 11,
     "metadata": {},
     "output_type": "execute_result"
    }
   ],
   "source": [
    "all_film_times = []\n",
    "index = []\n",
    "\n",
    "for film in selected_films:\n",
    "    for i, t in enumerate(film_times[film]):\n",
    "        all_film_times.append(t)\n",
    "        index.append((film, i))\n",
    "\n",
    "selected_film_screening_times = pd.DataFrame(\n",
    "    all_film_times, \n",
    "    index=pd.MultiIndex.from_tuples(index, names=['Film', 'Screening'])\n",
    ")\n",
    "selected_film_screening_times.head()"
   ]
  },
  {
   "cell_type": "code",
   "execution_count": 37,
   "metadata": {
    "collapsed": false
   },
   "outputs": [
    {
     "data": {
      "text/plain": [
       "(34, 1153)"
      ]
     },
     "execution_count": 37,
     "metadata": {},
     "output_type": "execute_result"
    }
   ],
   "source": [
    "selected_film_screening_times.shape"
   ]
  },
  {
   "cell_type": "code",
   "execution_count": 36,
   "metadata": {
    "collapsed": false
   },
   "outputs": [
    {
     "data": {
      "image/png": "[encoded data removed]",
      "text/plain": [
       "<Figure size 792x216 with 1 Axes>"
      ]
     },
     "metadata": {
      "needs_background": "light"
     },
     "output_type": "display_data"
    }
   ],
   "source": [
    "fig, ax = plt.subplots(figsize=(11,3))\n",
    "\n",
    "plt.imshow(selected_film_screening_times, aspect='auto', cmap='summer')\n",
    "plt.xlabel('time')\n",
    "plt.ylabel('film screenings')\n",
    "plt.show()"
   ]
  },
  {
   "cell_type": "code",
   "execution_count": 38,
   "metadata": {
    "collapsed": false
   },
   "outputs": [
    {
     "data": {
      "text/plain": [
       "All Good                        2\n",
       "Happy as Lazzaro                2\n",
       "Cold War                        2\n",
       "Burning                         2\n",
       "The Wild Pear Tree              2\n",
       "It's Boring Here, Pick Me Up    2\n",
       "Shoplifters                     2\n",
       "Jinpa                           2\n",
       "Daughter of Mine                2\n",
       "Last Summer                     2\n",
       "In the Aisles                   2\n",
       "The Favourite                   1\n",
       "Winter Flies                    2\n",
       "Woman at War                    3\n",
       "Sicilian Ghost Story            2\n",
       "Birds of Passage                2\n",
       "Ash Is Purest White             2\n",
       "dtype: int64"
      ]
     },
     "execution_count": 38,
     "metadata": {},
     "output_type": "execute_result"
    }
   ],
   "source": [
    "n_screenings_per_film = pd.Series([len(selected_film_screenings[film]) for film in selected_films], index=selected_films)\n",
    "n_screenings_per_film"
   ]
  },
  {
   "cell_type": "code",
   "execution_count": 39,
   "metadata": {
    "collapsed": false
   },
   "outputs": [
    {
     "data": {
      "text/plain": [
       "(98304, 17)"
      ]
     },
     "execution_count": 39,
     "metadata": {},
     "output_type": "execute_result"
    }
   ],
   "source": [
    "args = [range(n) for n in n_screenings_per_film]\n",
    "meshgrids = np.meshgrid(*args)\n",
    "all_combinations = np.stack([m.flatten() for m in meshgrids]).transpose()\n",
    "all_combinations.shape"
   ]
  },
  {
   "cell_type": "code",
   "execution_count": 40,
   "metadata": {
    "collapsed": false
   },
   "outputs": [
    {
     "data": {
      "text/plain": [
       "array([[0, 0, 0, 0, 0, 0, 0, 0, 0, 0, 0, 0, 0, 0, 0, 0, 0],\n",
       "       [0, 0, 0, 0, 0, 0, 0, 0, 0, 0, 0, 0, 0, 0, 0, 0, 1],\n",
       "       [0, 0, 0, 0, 0, 0, 0, 0, 0, 0, 0, 0, 0, 0, 0, 1, 0],\n",
       "       [0, 0, 0, 0, 0, 0, 0, 0, 0, 0, 0, 0, 0, 0, 0, 1, 1],\n",
       "       [0, 0, 0, 0, 0, 0, 0, 0, 0, 0, 0, 0, 0, 0, 1, 0, 0]])"
      ]
     },
     "execution_count": 40,
     "metadata": {},
     "output_type": "execute_result"
    }
   ],
   "source": [
    "all_combinations[0:5, :]"
   ]
  },
  {
   "cell_type": "code",
   "execution_count": 42,
   "metadata": {
    "collapsed": false
   },
   "outputs": [
    {
     "data": {
      "text/plain": [
       "[('All Good', 0),\n",
       " ('Happy as Lazzaro', 0),\n",
       " ('Cold War', 0),\n",
       " ('Burning', 0),\n",
       " ('The Wild Pear Tree', 0),\n",
       " (\"It's Boring Here, Pick Me Up\", 0),\n",
       " ('Shoplifters', 0),\n",
       " ('Jinpa', 0),\n",
       " ('Daughter of Mine', 0),\n",
       " ('Last Summer', 0),\n",
       " ('In the Aisles', 0),\n",
       " ('The Favourite', 0),\n",
       " ('Winter Flies', 0),\n",
       " ('Woman at War', 0),\n",
       " ('Sicilian Ghost Story', 0),\n",
       " ('Birds of Passage', 1),\n",
       " ('Ash Is Purest White', 1)]"
      ]
     },
     "execution_count": 42,
     "metadata": {},
     "output_type": "execute_result"
    }
   ],
   "source": [
    "i = 3\n",
    "combination = zip(selected_films, all_combinations[i, :])\n",
    "combination"
   ]
  },
  {
   "cell_type": "code",
   "execution_count": 43,
   "metadata": {
    "collapsed": false
   },
   "outputs": [
    {
     "data": {
      "text/plain": [
       "(1153,)"
      ]
     },
     "execution_count": 43,
     "metadata": {},
     "output_type": "execute_result"
    }
   ],
   "source": [
    "selected_film_screening_times.loc[('All Good', 0)].shape"
   ]
  },
  {
   "cell_type": "code",
   "execution_count": 44,
   "metadata": {
    "collapsed": false
   },
   "outputs": [
    {
     "data": {
      "text/plain": [
       "2018-09-27 21:00:00    1\n",
       "2018-09-27 21:15:00    1\n",
       "2018-09-27 21:30:00    1\n",
       "2018-09-27 21:45:00    1\n",
       "2018-09-27 22:00:00    1\n",
       "2018-09-27 22:15:00    1\n",
       "2018-09-27 22:30:00    1\n",
       "2018-09-27 22:45:00    1\n",
       "2018-09-27 23:00:00    1\n",
       "2018-09-27 23:15:00    0\n",
       "Freq: 15T, dtype: int64"
      ]
     },
     "execution_count": 44,
     "metadata": {},
     "output_type": "execute_result"
    }
   ],
   "source": [
    "selected_film_screening_times.loc[combination].sum().head(10)"
   ]
  },
  {
   "cell_type": "code",
   "execution_count": 46,
   "metadata": {
    "collapsed": false
   },
   "outputs": [
    {
     "data": {
      "text/html": [
       "<div>\n",
       "<style scoped>\n",
       "    .dataframe tbody tr th:only-of-type {\n",
       "        vertical-align: middle;\n",
       "    }\n",
       "\n",
       "    .dataframe tbody tr th {\n",
       "        vertical-align: top;\n",
       "    }\n",
       "\n",
       "    .dataframe thead th {\n",
       "        text-align: right;\n",
       "    }\n",
       "</style>\n",
       "<table border=\"1\" class=\"dataframe\">\n",
       "  <thead>\n",
       "    <tr style=\"text-align: right;\">\n",
       "      <th></th>\n",
       "      <th></th>\n",
       "      <th>2018-09-27 21:00:00</th>\n",
       "      <th>2018-09-27 21:15:00</th>\n",
       "      <th>2018-09-27 21:30:00</th>\n",
       "      <th>2018-09-27 21:45:00</th>\n",
       "      <th>2018-09-27 22:00:00</th>\n",
       "      <th>2018-09-27 22:15:00</th>\n",
       "      <th>2018-09-27 22:30:00</th>\n",
       "      <th>2018-09-27 22:45:00</th>\n",
       "      <th>2018-09-27 23:00:00</th>\n",
       "      <th>2018-09-27 23:15:00</th>\n",
       "      <th>...</th>\n",
       "      <th>2018-10-09 18:45:00</th>\n",
       "      <th>2018-10-09 19:00:00</th>\n",
       "      <th>2018-10-09 19:15:00</th>\n",
       "      <th>2018-10-09 19:30:00</th>\n",
       "      <th>2018-10-09 19:45:00</th>\n",
       "      <th>2018-10-09 20:00:00</th>\n",
       "      <th>2018-10-09 20:15:00</th>\n",
       "      <th>2018-10-09 20:30:00</th>\n",
       "      <th>2018-10-09 20:45:00</th>\n",
       "      <th>2018-10-09 21:00:00</th>\n",
       "    </tr>\n",
       "    <tr>\n",
       "      <th>Film</th>\n",
       "      <th>Screening</th>\n",
       "      <th></th>\n",
       "      <th></th>\n",
       "      <th></th>\n",
       "      <th></th>\n",
       "      <th></th>\n",
       "      <th></th>\n",
       "      <th></th>\n",
       "      <th></th>\n",
       "      <th></th>\n",
       "      <th></th>\n",
       "      <th></th>\n",
       "      <th></th>\n",
       "      <th></th>\n",
       "      <th></th>\n",
       "      <th></th>\n",
       "      <th></th>\n",
       "      <th></th>\n",
       "      <th></th>\n",
       "      <th></th>\n",
       "      <th></th>\n",
       "      <th></th>\n",
       "    </tr>\n",
       "  </thead>\n",
       "  <tbody>\n",
       "    <tr>\n",
       "      <th>All Good</th>\n",
       "      <th>0</th>\n",
       "      <td>False</td>\n",
       "      <td>False</td>\n",
       "      <td>False</td>\n",
       "      <td>False</td>\n",
       "      <td>False</td>\n",
       "      <td>False</td>\n",
       "      <td>False</td>\n",
       "      <td>False</td>\n",
       "      <td>False</td>\n",
       "      <td>False</td>\n",
       "      <td>...</td>\n",
       "      <td>False</td>\n",
       "      <td>False</td>\n",
       "      <td>False</td>\n",
       "      <td>False</td>\n",
       "      <td>False</td>\n",
       "      <td>False</td>\n",
       "      <td>False</td>\n",
       "      <td>False</td>\n",
       "      <td>False</td>\n",
       "      <td>False</td>\n",
       "    </tr>\n",
       "    <tr>\n",
       "      <th>Happy as Lazzaro</th>\n",
       "      <th>0</th>\n",
       "      <td>False</td>\n",
       "      <td>False</td>\n",
       "      <td>False</td>\n",
       "      <td>False</td>\n",
       "      <td>False</td>\n",
       "      <td>False</td>\n",
       "      <td>False</td>\n",
       "      <td>False</td>\n",
       "      <td>False</td>\n",
       "      <td>False</td>\n",
       "      <td>...</td>\n",
       "      <td>False</td>\n",
       "      <td>False</td>\n",
       "      <td>False</td>\n",
       "      <td>False</td>\n",
       "      <td>False</td>\n",
       "      <td>False</td>\n",
       "      <td>False</td>\n",
       "      <td>False</td>\n",
       "      <td>False</td>\n",
       "      <td>False</td>\n",
       "    </tr>\n",
       "    <tr>\n",
       "      <th>Cold War</th>\n",
       "      <th>0</th>\n",
       "      <td>False</td>\n",
       "      <td>False</td>\n",
       "      <td>False</td>\n",
       "      <td>False</td>\n",
       "      <td>False</td>\n",
       "      <td>False</td>\n",
       "      <td>False</td>\n",
       "      <td>False</td>\n",
       "      <td>False</td>\n",
       "      <td>False</td>\n",
       "      <td>...</td>\n",
       "      <td>False</td>\n",
       "      <td>False</td>\n",
       "      <td>False</td>\n",
       "      <td>False</td>\n",
       "      <td>False</td>\n",
       "      <td>False</td>\n",
       "      <td>False</td>\n",
       "      <td>False</td>\n",
       "      <td>False</td>\n",
       "      <td>False</td>\n",
       "    </tr>\n",
       "    <tr>\n",
       "      <th>Burning</th>\n",
       "      <th>0</th>\n",
       "      <td>False</td>\n",
       "      <td>False</td>\n",
       "      <td>False</td>\n",
       "      <td>False</td>\n",
       "      <td>False</td>\n",
       "      <td>False</td>\n",
       "      <td>False</td>\n",
       "      <td>False</td>\n",
       "      <td>False</td>\n",
       "      <td>False</td>\n",
       "      <td>...</td>\n",
       "      <td>False</td>\n",
       "      <td>False</td>\n",
       "      <td>False</td>\n",
       "      <td>False</td>\n",
       "      <td>False</td>\n",
       "      <td>False</td>\n",
       "      <td>False</td>\n",
       "      <td>False</td>\n",
       "      <td>False</td>\n",
       "      <td>False</td>\n",
       "    </tr>\n",
       "    <tr>\n",
       "      <th>The Wild Pear Tree</th>\n",
       "      <th>0</th>\n",
       "      <td>False</td>\n",
       "      <td>False</td>\n",
       "      <td>False</td>\n",
       "      <td>False</td>\n",
       "      <td>False</td>\n",
       "      <td>False</td>\n",
       "      <td>False</td>\n",
       "      <td>False</td>\n",
       "      <td>False</td>\n",
       "      <td>False</td>\n",
       "      <td>...</td>\n",
       "      <td>False</td>\n",
       "      <td>False</td>\n",
       "      <td>False</td>\n",
       "      <td>False</td>\n",
       "      <td>False</td>\n",
       "      <td>False</td>\n",
       "      <td>False</td>\n",
       "      <td>False</td>\n",
       "      <td>False</td>\n",
       "      <td>False</td>\n",
       "    </tr>\n",
       "  </tbody>\n",
       "</table>\n",
       "<p>5 rows × 1153 columns</p>\n",
       "</div>"
      ],
      "text/plain": [
       "                              2018-09-27 21:00:00  2018-09-27 21:15:00  \\\n",
       "Film               Screening                                             \n",
       "All Good           0                        False                False   \n",
       "Happy as Lazzaro   0                        False                False   \n",
       "Cold War           0                        False                False   \n",
       "Burning            0                        False                False   \n",
       "The Wild Pear Tree 0                        False                False   \n",
       "\n",
       "                              2018-09-27 21:30:00  2018-09-27 21:45:00  \\\n",
       "Film               Screening                                             \n",
       "All Good           0                        False                False   \n",
       "Happy as Lazzaro   0                        False                False   \n",
       "Cold War           0                        False                False   \n",
       "Burning            0                        False                False   \n",
       "The Wild Pear Tree 0                        False                False   \n",
       "\n",
       "                              2018-09-27 22:00:00  2018-09-27 22:15:00  \\\n",
       "Film               Screening                                             \n",
       "All Good           0                        False                False   \n",
       "Happy as Lazzaro   0                        False                False   \n",
       "Cold War           0                        False                False   \n",
       "Burning            0                        False                False   \n",
       "The Wild Pear Tree 0                        False                False   \n",
       "\n",
       "                              2018-09-27 22:30:00  2018-09-27 22:45:00  \\\n",
       "Film               Screening                                             \n",
       "All Good           0                        False                False   \n",
       "Happy as Lazzaro   0                        False                False   \n",
       "Cold War           0                        False                False   \n",
       "Burning            0                        False                False   \n",
       "The Wild Pear Tree 0                        False                False   \n",
       "\n",
       "                              2018-09-27 23:00:00  2018-09-27 23:15:00  \\\n",
       "Film               Screening                                             \n",
       "All Good           0                        False                False   \n",
       "Happy as Lazzaro   0                        False                False   \n",
       "Cold War           0                        False                False   \n",
       "Burning            0                        False                False   \n",
       "The Wild Pear Tree 0                        False                False   \n",
       "\n",
       "                                     ...           2018-10-09 18:45:00  \\\n",
       "Film               Screening         ...                                 \n",
       "All Good           0                 ...                         False   \n",
       "Happy as Lazzaro   0                 ...                         False   \n",
       "Cold War           0                 ...                         False   \n",
       "Burning            0                 ...                         False   \n",
       "The Wild Pear Tree 0                 ...                         False   \n",
       "\n",
       "                              2018-10-09 19:00:00  2018-10-09 19:15:00  \\\n",
       "Film               Screening                                             \n",
       "All Good           0                        False                False   \n",
       "Happy as Lazzaro   0                        False                False   \n",
       "Cold War           0                        False                False   \n",
       "Burning            0                        False                False   \n",
       "The Wild Pear Tree 0                        False                False   \n",
       "\n",
       "                              2018-10-09 19:30:00  2018-10-09 19:45:00  \\\n",
       "Film               Screening                                             \n",
       "All Good           0                        False                False   \n",
       "Happy as Lazzaro   0                        False                False   \n",
       "Cold War           0                        False                False   \n",
       "Burning            0                        False                False   \n",
       "The Wild Pear Tree 0                        False                False   \n",
       "\n",
       "                              2018-10-09 20:00:00  2018-10-09 20:15:00  \\\n",
       "Film               Screening                                             \n",
       "All Good           0                        False                False   \n",
       "Happy as Lazzaro   0                        False                False   \n",
       "Cold War           0                        False                False   \n",
       "Burning            0                        False                False   \n",
       "The Wild Pear Tree 0                        False                False   \n",
       "\n",
       "                              2018-10-09 20:30:00  2018-10-09 20:45:00  \\\n",
       "Film               Screening                                             \n",
       "All Good           0                        False                False   \n",
       "Happy as Lazzaro   0                        False                False   \n",
       "Cold War           0                        False                False   \n",
       "Burning            0                        False                False   \n",
       "The Wild Pear Tree 0                        False                False   \n",
       "\n",
       "                              2018-10-09 21:00:00  \n",
       "Film               Screening                       \n",
       "All Good           0                        False  \n",
       "Happy as Lazzaro   0                        False  \n",
       "Cold War           0                        False  \n",
       "Burning            0                        False  \n",
       "The Wild Pear Tree 0                        False  \n",
       "\n",
       "[5 rows x 1153 columns]"
      ]
     },
     "execution_count": 46,
     "metadata": {},
     "output_type": "execute_result"
    }
   ],
   "source": [
    "selected_film_screening_times.loc[combination].head()"
   ]
  },
  {
   "cell_type": "code",
   "execution_count": 47,
   "metadata": {
    "collapsed": false
   },
   "outputs": [
    {
     "data": {
      "text/plain": [
       "2018-09-27 21:00:00    False\n",
       "2018-09-27 21:15:00    False\n",
       "2018-09-27 21:30:00    False\n",
       "2018-09-27 21:45:00    False\n",
       "2018-09-27 22:00:00    False\n",
       "2018-09-27 22:15:00    False\n",
       "2018-09-27 22:30:00    False\n",
       "2018-09-27 22:45:00    False\n",
       "2018-09-27 23:00:00    False\n",
       "2018-09-27 23:15:00    False\n",
       "Freq: 15T, dtype: bool"
      ]
     },
     "execution_count": 47,
     "metadata": {},
     "output_type": "execute_result"
    }
   ],
   "source": [
    "(selected_film_screening_times.loc[combination].sum() > 1).head(10)"
   ]
  },
  {
   "cell_type": "code",
   "execution_count": 48,
   "metadata": {
    "collapsed": false
   },
   "outputs": [
    {
     "data": {
      "text/plain": [
       "[('All Good', ('All Good', 0)),\n",
       " ('Happy as Lazzaro', ('Happy as Lazzaro', 0)),\n",
       " ('Cold War', ('Cold War', 0)),\n",
       " ('Burning', ('Burning', 0)),\n",
       " ('The Wild Pear Tree', ('The Wild Pear Tree', 0)),\n",
       " (\"It's Boring Here, Pick Me Up\", (\"It's Boring Here, Pick Me Up\", 0)),\n",
       " ('Shoplifters', ('Shoplifters', 0)),\n",
       " ('Jinpa', ('Jinpa', 0)),\n",
       " ('Daughter of Mine', ('Daughter of Mine', 0)),\n",
       " ('Last Summer', ('Last Summer', 0)),\n",
       " ('In the Aisles', ('In the Aisles', 0)),\n",
       " ('The Favourite', ('The Favourite', 0)),\n",
       " ('Winter Flies', ('Winter Flies', 0)),\n",
       " ('Woman at War', ('Woman at War', 0)),\n",
       " ('Sicilian Ghost Story', ('Sicilian Ghost Story', 0)),\n",
       " ('Birds of Passage', ('Birds of Passage', 1)),\n",
       " ('Ash Is Purest White', ('Ash Is Purest White', 1))]"
      ]
     },
     "execution_count": 48,
     "metadata": {},
     "output_type": "execute_result"
    }
   ],
   "source": [
    "zip(selected_films, combination)"
   ]
  },
  {
   "cell_type": "code",
   "execution_count": 51,
   "metadata": {
    "collapsed": false
   },
   "outputs": [
    {
     "name": "stdout",
     "output_type": "stream",
     "text": [
      "Analyzing all possible combinations\n",
      "1000 of 98304 combinations checked. 22 found\n",
      "2000 of 98304 combinations checked. 36 found\n",
      "3000 of 98304 combinations checked. 48 found\n",
      "4000 of 98304 combinations checked. 48 found\n",
      "5000 of 98304 combinations checked. 72 found\n",
      "6000 of 98304 combinations checked. 96 found\n",
      "7000 of 98304 combinations checked. 120 found\n",
      "8000 of 98304 combinations checked. 168 found\n",
      "9000 of 98304 combinations checked. 192 found\n",
      "10000 of 98304 combinations checked. 192 found\n",
      "11000 of 98304 combinations checked. 240 found\n",
      "12000 of 98304 combinations checked. 264 found\n",
      "13000 of 98304 combinations checked. 288 found\n",
      "14000 of 98304 combinations checked. 300 found\n",
      "15000 of 98304 combinations checked. 312 found\n",
      "16000 of 98304 combinations checked. 312 found\n",
      "17000 of 98304 combinations checked. 312 found\n",
      "18000 of 98304 combinations checked. 324 found\n",
      "19000 of 98304 combinations checked. 336 found\n",
      "20000 of 98304 combinations checked. 336 found\n",
      "21000 of 98304 combinations checked. 384 found\n",
      "22000 of 98304 combinations checked. 384 found\n",
      "23000 of 98304 combinations checked. 384 found\n",
      "24000 of 98304 combinations checked. 384 found\n",
      "25000 of 98304 combinations checked. 438 found\n",
      "26000 of 98304 combinations checked. 444 found\n",
      "27000 of 98304 combinations checked. 450 found\n",
      "28000 of 98304 combinations checked. 456 found\n",
      "29000 of 98304 combinations checked. 462 found\n",
      "30000 of 98304 combinations checked. 468 found\n",
      "31000 of 98304 combinations checked. 492 found\n",
      "32000 of 98304 combinations checked. 504 found\n",
      "33000 of 98304 combinations checked. 516 found\n",
      "34000 of 98304 combinations checked. 528 found\n",
      "35000 of 98304 combinations checked. 540 found\n",
      "36000 of 98304 combinations checked. 552 found\n",
      "37000 of 98304 combinations checked. 576 found\n",
      "38000 of 98304 combinations checked. 576 found\n",
      "39000 of 98304 combinations checked. 582 found\n",
      "40000 of 98304 combinations checked. 588 found\n",
      "41000 of 98304 combinations checked. 588 found\n",
      "42000 of 98304 combinations checked. 588 found\n",
      "43000 of 98304 combinations checked. 600 found\n",
      "44000 of 98304 combinations checked. 600 found\n",
      "45000 of 98304 combinations checked. 612 found\n",
      "46000 of 98304 combinations checked. 624 found\n",
      "47000 of 98304 combinations checked. 624 found\n",
      "48000 of 98304 combinations checked. 624 found\n",
      "49000 of 98304 combinations checked. 644 found\n",
      "50000 of 98304 combinations checked. 648 found\n",
      "51000 of 98304 combinations checked. 660 found\n",
      "52000 of 98304 combinations checked. 672 found\n",
      "53000 of 98304 combinations checked. 672 found\n",
      "54000 of 98304 combinations checked. 672 found\n",
      "55000 of 98304 combinations checked. 684 found\n",
      "56000 of 98304 combinations checked. 696 found\n",
      "57000 of 98304 combinations checked. 720 found\n",
      "58000 of 98304 combinations checked. 744 found\n",
      "59000 of 98304 combinations checked. 744 found\n",
      "60000 of 98304 combinations checked. 744 found\n",
      "61000 of 98304 combinations checked. 768 found\n",
      "62000 of 98304 combinations checked. 792 found\n",
      "63000 of 98304 combinations checked. 792 found\n",
      "64000 of 98304 combinations checked. 792 found\n",
      "65000 of 98304 combinations checked. 792 found\n",
      "66000 of 98304 combinations checked. 792 found\n",
      "67000 of 98304 combinations checked. 792 found\n",
      "68000 of 98304 combinations checked. 792 found\n",
      "69000 of 98304 combinations checked. 792 found\n",
      "70000 of 98304 combinations checked. 792 found\n",
      "71000 of 98304 combinations checked. 792 found\n",
      "72000 of 98304 combinations checked. 792 found\n",
      "73000 of 98304 combinations checked. 792 found\n",
      "74000 of 98304 combinations checked. 792 found\n",
      "75000 of 98304 combinations checked. 792 found\n",
      "76000 of 98304 combinations checked. 798 found\n",
      "77000 of 98304 combinations checked. 804 found\n",
      "78000 of 98304 combinations checked. 804 found\n",
      "79000 of 98304 combinations checked. 804 found\n",
      "80000 of 98304 combinations checked. 816 found\n",
      "81000 of 98304 combinations checked. 816 found\n",
      "82000 of 98304 combinations checked. 828 found\n",
      "83000 of 98304 combinations checked. 840 found\n",
      "84000 of 98304 combinations checked. 840 found\n",
      "85000 of 98304 combinations checked. 840 found\n",
      "86000 of 98304 combinations checked. 864 found\n",
      "87000 of 98304 combinations checked. 864 found\n",
      "88000 of 98304 combinations checked. 864 found\n",
      "89000 of 98304 combinations checked. 864 found\n",
      "90000 of 98304 combinations checked. 864 found\n",
      "91000 of 98304 combinations checked. 864 found\n",
      "92000 of 98304 combinations checked. 864 found\n",
      "93000 of 98304 combinations checked. 864 found\n",
      "94000 of 98304 combinations checked. 864 found\n",
      "95000 of 98304 combinations checked. 864 found\n",
      "96000 of 98304 combinations checked. 864 found\n",
      "97000 of 98304 combinations checked. 864 found\n",
      "98000 of 98304 combinations checked. 864 found\n"
     ]
    },
    {
     "data": {
      "text/plain": [
       "864"
      ]
     },
     "execution_count": 51,
     "metadata": {},
     "output_type": "execute_result"
    }
   ],
   "source": [
    "print(\"Analyzing all possible combinations...\")\n",
    "possible_combinations = []\n",
    "n = len(all_combinations)\n",
    "i = 0\n",
    "for combination in all_combinations:\n",
    "    indeces = zip(selected_films, combination)\n",
    "    # Check for combinations where there is more than one film showing\n",
    "    # in any 15-min period.\n",
    "    if (selected_film_screening_times.loc[indeces].sum() > 1).sum() == 0:\n",
    "        possible_combinations.append(combination)\n",
    "    i += 1\n",
    "    if i % 1000 == 0:\n",
    "        print(\"%d of %d combinations checked. %d found\" % (i, n, len(possible_combinations)))\n",
    "len(possible_combinations)\n"
   ]
  },
  {
   "cell_type": "code",
   "execution_count": 52,
   "metadata": {
    "collapsed": false
   },
   "outputs": [
    {
     "data": {
      "text/html": [
       "<div>\n",
       "<style scoped>\n",
       "    .dataframe tbody tr th:only-of-type {\n",
       "        vertical-align: middle;\n",
       "    }\n",
       "\n",
       "    .dataframe tbody tr th {\n",
       "        vertical-align: top;\n",
       "    }\n",
       "\n",
       "    .dataframe thead th {\n",
       "        text-align: right;\n",
       "    }\n",
       "</style>\n",
       "<table border=\"1\" class=\"dataframe\">\n",
       "  <thead>\n",
       "    <tr style=\"text-align: right;\">\n",
       "      <th></th>\n",
       "      <th>All Good</th>\n",
       "      <th>Happy as Lazzaro</th>\n",
       "      <th>Cold War</th>\n",
       "      <th>Burning</th>\n",
       "      <th>The Wild Pear Tree</th>\n",
       "      <th>It's Boring Here, Pick Me Up</th>\n",
       "      <th>Shoplifters</th>\n",
       "      <th>Jinpa</th>\n",
       "      <th>Daughter of Mine</th>\n",
       "      <th>Last Summer</th>\n",
       "      <th>In the Aisles</th>\n",
       "      <th>The Favourite</th>\n",
       "      <th>Winter Flies</th>\n",
       "      <th>Woman at War</th>\n",
       "      <th>Sicilian Ghost Story</th>\n",
       "      <th>Birds of Passage</th>\n",
       "      <th>Ash Is Purest White</th>\n",
       "    </tr>\n",
       "  </thead>\n",
       "  <tbody>\n",
       "    <tr>\n",
       "      <th>0</th>\n",
       "      <td>0</td>\n",
       "      <td>0</td>\n",
       "      <td>0</td>\n",
       "      <td>0</td>\n",
       "      <td>0</td>\n",
       "      <td>0</td>\n",
       "      <td>0</td>\n",
       "      <td>0</td>\n",
       "      <td>0</td>\n",
       "      <td>1</td>\n",
       "      <td>0</td>\n",
       "      <td>0</td>\n",
       "      <td>0</td>\n",
       "      <td>0</td>\n",
       "      <td>1</td>\n",
       "      <td>1</td>\n",
       "      <td>0</td>\n",
       "    </tr>\n",
       "    <tr>\n",
       "      <th>1</th>\n",
       "      <td>0</td>\n",
       "      <td>0</td>\n",
       "      <td>0</td>\n",
       "      <td>0</td>\n",
       "      <td>0</td>\n",
       "      <td>0</td>\n",
       "      <td>0</td>\n",
       "      <td>0</td>\n",
       "      <td>0</td>\n",
       "      <td>1</td>\n",
       "      <td>0</td>\n",
       "      <td>0</td>\n",
       "      <td>0</td>\n",
       "      <td>0</td>\n",
       "      <td>1</td>\n",
       "      <td>1</td>\n",
       "      <td>1</td>\n",
       "    </tr>\n",
       "    <tr>\n",
       "      <th>2</th>\n",
       "      <td>0</td>\n",
       "      <td>0</td>\n",
       "      <td>0</td>\n",
       "      <td>0</td>\n",
       "      <td>0</td>\n",
       "      <td>0</td>\n",
       "      <td>0</td>\n",
       "      <td>0</td>\n",
       "      <td>0</td>\n",
       "      <td>1</td>\n",
       "      <td>0</td>\n",
       "      <td>0</td>\n",
       "      <td>0</td>\n",
       "      <td>1</td>\n",
       "      <td>1</td>\n",
       "      <td>1</td>\n",
       "      <td>0</td>\n",
       "    </tr>\n",
       "    <tr>\n",
       "      <th>3</th>\n",
       "      <td>0</td>\n",
       "      <td>0</td>\n",
       "      <td>0</td>\n",
       "      <td>0</td>\n",
       "      <td>0</td>\n",
       "      <td>0</td>\n",
       "      <td>0</td>\n",
       "      <td>0</td>\n",
       "      <td>0</td>\n",
       "      <td>1</td>\n",
       "      <td>0</td>\n",
       "      <td>0</td>\n",
       "      <td>0</td>\n",
       "      <td>1</td>\n",
       "      <td>1</td>\n",
       "      <td>1</td>\n",
       "      <td>1</td>\n",
       "    </tr>\n",
       "    <tr>\n",
       "      <th>4</th>\n",
       "      <td>0</td>\n",
       "      <td>0</td>\n",
       "      <td>0</td>\n",
       "      <td>0</td>\n",
       "      <td>0</td>\n",
       "      <td>0</td>\n",
       "      <td>0</td>\n",
       "      <td>0</td>\n",
       "      <td>0</td>\n",
       "      <td>1</td>\n",
       "      <td>0</td>\n",
       "      <td>0</td>\n",
       "      <td>0</td>\n",
       "      <td>2</td>\n",
       "      <td>1</td>\n",
       "      <td>1</td>\n",
       "      <td>0</td>\n",
       "    </tr>\n",
       "  </tbody>\n",
       "</table>\n",
       "</div>"
      ],
      "text/plain": [
       "   All Good  Happy as Lazzaro  Cold War  Burning  The Wild Pear Tree  \\\n",
       "0         0                 0         0        0                   0   \n",
       "1         0                 0         0        0                   0   \n",
       "2         0                 0         0        0                   0   \n",
       "3         0                 0         0        0                   0   \n",
       "4         0                 0         0        0                   0   \n",
       "\n",
       "   It's Boring Here, Pick Me Up  Shoplifters  Jinpa  Daughter of Mine  \\\n",
       "0                             0            0      0                 0   \n",
       "1                             0            0      0                 0   \n",
       "2                             0            0      0                 0   \n",
       "3                             0            0      0                 0   \n",
       "4                             0            0      0                 0   \n",
       "\n",
       "   Last Summer  In the Aisles  The Favourite  Winter Flies  Woman at War  \\\n",
       "0            1              0              0             0             0   \n",
       "1            1              0              0             0             0   \n",
       "2            1              0              0             0             1   \n",
       "3            1              0              0             0             1   \n",
       "4            1              0              0             0             2   \n",
       "\n",
       "   Sicilian Ghost Story  Birds of Passage  Ash Is Purest White  \n",
       "0                     1                 1                    0  \n",
       "1                     1                 1                    1  \n",
       "2                     1                 1                    0  \n",
       "3                     1                 1                    1  \n",
       "4                     1                 1                    0  "
      ]
     },
     "execution_count": 52,
     "metadata": {},
     "output_type": "execute_result"
    }
   ],
   "source": [
    "possible_combinations_df = pd.DataFrame(possible_combinations, columns=selected_films).head()\n",
    "possible_combinations_df.head()"
   ]
  },
  {
   "cell_type": "code",
   "execution_count": 53,
   "metadata": {
    "collapsed": false
   },
   "outputs": [
    {
     "data": {
      "text/plain": [
       "DatetimeIndex(['2018-09-27 21:00:00', '2018-09-27 21:15:00',\n",
       "               '2018-09-27 21:30:00', '2018-09-27 21:45:00',\n",
       "               '2018-09-27 22:00:00', '2018-09-27 22:15:00',\n",
       "               '2018-09-27 22:30:00', '2018-09-27 22:45:00',\n",
       "               '2018-09-27 23:00:00', '2018-09-27 23:15:00',\n",
       "               ...\n",
       "               '2018-10-09 18:45:00', '2018-10-09 19:00:00',\n",
       "               '2018-10-09 19:15:00', '2018-10-09 19:30:00',\n",
       "               '2018-10-09 19:45:00', '2018-10-09 20:00:00',\n",
       "               '2018-10-09 20:15:00', '2018-10-09 20:30:00',\n",
       "               '2018-10-09 20:45:00', '2018-10-09 21:00:00'],\n",
       "              dtype='datetime64[ns]', length=1153, freq='15T')"
      ]
     },
     "execution_count": 53,
     "metadata": {},
     "output_type": "execute_result"
    }
   ],
   "source": [
    "full_time_period"
   ]
  },
  {
   "cell_type": "code",
   "execution_count": 54,
   "metadata": {
    "collapsed": false
   },
   "outputs": [
    {
     "data": {
      "text/plain": [
       "((1153,), 128)"
      ]
     },
     "execution_count": 54,
     "metadata": {},
     "output_type": "execute_result"
    }
   ],
   "source": [
    "weekdays = (full_time_period.weekday < 5)\n",
    "evenings = (full_time_period.hour > 17) & (full_time_period.hour <23)\n",
    "beer_club_days = (full_time_period.weekday == 1)\n",
    "weekday_evenings = (weekdays & evenings).astype(int)\n",
    "weekday_evenings_not_beer_club = ((weekdays & ~beer_club_days) & evenings).astype(int)\n",
    "weekday_evenings_not_beer_club.shape, weekday_evenings_not_beer_club.sum()"
   ]
  },
  {
   "cell_type": "code",
   "execution_count": 55,
   "metadata": {
    "collapsed": false
   },
   "outputs": [
    {
     "data": {
      "text/plain": [
       "((1153,), 480)"
      ]
     },
     "execution_count": 55,
     "metadata": {},
     "output_type": "execute_result"
    }
   ],
   "source": [
    "best_days = ['2018-09-29', '2018-09-30', '2018-10-06', '2018-10-07', '2018-10-08']\n",
    "best_days = (pd.Series(full_time_period.date).isin(pd.to_datetime(best_days).date)).values.astype(int)\n",
    "best_days.shape, best_days.sum()"
   ]
  },
  {
   "cell_type": "code",
   "execution_count": 56,
   "metadata": {
    "collapsed": false
   },
   "outputs": [
    {
     "data": {
      "text/plain": [
       "2114"
      ]
     },
     "execution_count": 56,
     "metadata": {},
     "output_type": "execute_result"
    }
   ],
   "source": [
    "time_scores = pd.Series(2*weekday_evenings - weekday_evenings_not_beer_club + 4*best_days, index=full_time_period)\n",
    "time_scores.sum()"
   ]
  },
  {
   "cell_type": "code",
   "execution_count": 57,
   "metadata": {
    "collapsed": false
   },
   "outputs": [
    {
     "data": {
      "text/plain": [
       "(0, 5)"
      ]
     },
     "execution_count": 57,
     "metadata": {},
     "output_type": "execute_result"
    }
   ],
   "source": [
    "time_scores.min(), time_scores.max()"
   ]
  },
  {
   "cell_type": "code",
   "execution_count": 58,
   "metadata": {
    "collapsed": false
   },
   "outputs": [
    {
     "data": {
      "text/html": [
       "<div>\n",
       "<style scoped>\n",
       "    .dataframe tbody tr th:only-of-type {\n",
       "        vertical-align: middle;\n",
       "    }\n",
       "\n",
       "    .dataframe tbody tr th {\n",
       "        vertical-align: top;\n",
       "    }\n",
       "\n",
       "    .dataframe thead th {\n",
       "        text-align: right;\n",
       "    }\n",
       "</style>\n",
       "<table border=\"1\" class=\"dataframe\">\n",
       "  <thead>\n",
       "    <tr style=\"text-align: right;\">\n",
       "      <th></th>\n",
       "      <th>Best days</th>\n",
       "      <th>Time scores</th>\n",
       "      <th>Weekday evenings</th>\n",
       "      <th>Weekday evenings not beer club</th>\n",
       "    </tr>\n",
       "    <tr>\n",
       "      <th>Time</th>\n",
       "      <th></th>\n",
       "      <th></th>\n",
       "      <th></th>\n",
       "      <th></th>\n",
       "    </tr>\n",
       "  </thead>\n",
       "  <tbody>\n",
       "    <tr>\n",
       "      <th>2018-09-27 21:00:00</th>\n",
       "      <td>0</td>\n",
       "      <td>1</td>\n",
       "      <td>1</td>\n",
       "      <td>1</td>\n",
       "    </tr>\n",
       "    <tr>\n",
       "      <th>2018-09-27 21:15:00</th>\n",
       "      <td>0</td>\n",
       "      <td>1</td>\n",
       "      <td>1</td>\n",
       "      <td>1</td>\n",
       "    </tr>\n",
       "    <tr>\n",
       "      <th>2018-09-27 21:30:00</th>\n",
       "      <td>0</td>\n",
       "      <td>1</td>\n",
       "      <td>1</td>\n",
       "      <td>1</td>\n",
       "    </tr>\n",
       "    <tr>\n",
       "      <th>2018-09-27 21:45:00</th>\n",
       "      <td>0</td>\n",
       "      <td>1</td>\n",
       "      <td>1</td>\n",
       "      <td>1</td>\n",
       "    </tr>\n",
       "    <tr>\n",
       "      <th>2018-09-27 22:00:00</th>\n",
       "      <td>0</td>\n",
       "      <td>1</td>\n",
       "      <td>1</td>\n",
       "      <td>1</td>\n",
       "    </tr>\n",
       "    <tr>\n",
       "      <th>2018-09-27 22:15:00</th>\n",
       "      <td>0</td>\n",
       "      <td>1</td>\n",
       "      <td>1</td>\n",
       "      <td>1</td>\n",
       "    </tr>\n",
       "    <tr>\n",
       "      <th>2018-09-27 22:30:00</th>\n",
       "      <td>0</td>\n",
       "      <td>1</td>\n",
       "      <td>1</td>\n",
       "      <td>1</td>\n",
       "    </tr>\n",
       "    <tr>\n",
       "      <th>2018-09-27 22:45:00</th>\n",
       "      <td>0</td>\n",
       "      <td>1</td>\n",
       "      <td>1</td>\n",
       "      <td>1</td>\n",
       "    </tr>\n",
       "    <tr>\n",
       "      <th>2018-09-27 23:00:00</th>\n",
       "      <td>0</td>\n",
       "      <td>0</td>\n",
       "      <td>0</td>\n",
       "      <td>0</td>\n",
       "    </tr>\n",
       "    <tr>\n",
       "      <th>2018-09-27 23:15:00</th>\n",
       "      <td>0</td>\n",
       "      <td>0</td>\n",
       "      <td>0</td>\n",
       "      <td>0</td>\n",
       "    </tr>\n",
       "  </tbody>\n",
       "</table>\n",
       "</div>"
      ],
      "text/plain": [
       "                     Best days  Time scores  Weekday evenings  \\\n",
       "Time                                                            \n",
       "2018-09-27 21:00:00          0            1                 1   \n",
       "2018-09-27 21:15:00          0            1                 1   \n",
       "2018-09-27 21:30:00          0            1                 1   \n",
       "2018-09-27 21:45:00          0            1                 1   \n",
       "2018-09-27 22:00:00          0            1                 1   \n",
       "2018-09-27 22:15:00          0            1                 1   \n",
       "2018-09-27 22:30:00          0            1                 1   \n",
       "2018-09-27 22:45:00          0            1                 1   \n",
       "2018-09-27 23:00:00          0            0                 0   \n",
       "2018-09-27 23:15:00          0            0                 0   \n",
       "\n",
       "                     Weekday evenings not beer club  \n",
       "Time                                                 \n",
       "2018-09-27 21:00:00                               1  \n",
       "2018-09-27 21:15:00                               1  \n",
       "2018-09-27 21:30:00                               1  \n",
       "2018-09-27 21:45:00                               1  \n",
       "2018-09-27 22:00:00                               1  \n",
       "2018-09-27 22:15:00                               1  \n",
       "2018-09-27 22:30:00                               1  \n",
       "2018-09-27 22:45:00                               1  \n",
       "2018-09-27 23:00:00                               0  \n",
       "2018-09-27 23:15:00                               0  "
      ]
     },
     "execution_count": 58,
     "metadata": {},
     "output_type": "execute_result"
    }
   ],
   "source": [
    "data = {\n",
    "    \"Weekday evenings\": weekday_evenings,\n",
    "    \"Weekday evenings not beer club\": weekday_evenings_not_beer_club,\n",
    "    \"Best days\": best_days,\n",
    "    \"Time scores\": time_scores\n",
    "}\n",
    "time_scores_df = pd.DataFrame(data, index=pd.Index(full_time_period, name=\"Time\"))\n",
    "time_scores_df.head(10)"
   ]
  },
  {
   "cell_type": "code",
   "execution_count": 59,
   "metadata": {
    "collapsed": false
   },
   "outputs": [
    {
     "data": {
      "text/html": [
       "<div>\n",
       "<style scoped>\n",
       "    .dataframe tbody tr th:only-of-type {\n",
       "        vertical-align: middle;\n",
       "    }\n",
       "\n",
       "    .dataframe tbody tr th {\n",
       "        vertical-align: top;\n",
       "    }\n",
       "\n",
       "    .dataframe thead th {\n",
       "        text-align: right;\n",
       "    }\n",
       "</style>\n",
       "<table border=\"1\" class=\"dataframe\">\n",
       "  <thead>\n",
       "    <tr style=\"text-align: right;\">\n",
       "      <th></th>\n",
       "      <th>Best days</th>\n",
       "      <th>Time scores</th>\n",
       "      <th>Weekday evenings</th>\n",
       "      <th>Weekday evenings not beer club</th>\n",
       "    </tr>\n",
       "    <tr>\n",
       "      <th>Time</th>\n",
       "      <th></th>\n",
       "      <th></th>\n",
       "      <th></th>\n",
       "      <th></th>\n",
       "    </tr>\n",
       "  </thead>\n",
       "  <tbody>\n",
       "    <tr>\n",
       "      <th>2018-10-08 21:15:00</th>\n",
       "      <td>1</td>\n",
       "      <td>5</td>\n",
       "      <td>1</td>\n",
       "      <td>1</td>\n",
       "    </tr>\n",
       "    <tr>\n",
       "      <th>2018-10-08 19:00:00</th>\n",
       "      <td>1</td>\n",
       "      <td>5</td>\n",
       "      <td>1</td>\n",
       "      <td>1</td>\n",
       "    </tr>\n",
       "    <tr>\n",
       "      <th>2018-10-08 20:30:00</th>\n",
       "      <td>1</td>\n",
       "      <td>5</td>\n",
       "      <td>1</td>\n",
       "      <td>1</td>\n",
       "    </tr>\n",
       "    <tr>\n",
       "      <th>2018-10-08 20:45:00</th>\n",
       "      <td>1</td>\n",
       "      <td>5</td>\n",
       "      <td>1</td>\n",
       "      <td>1</td>\n",
       "    </tr>\n",
       "    <tr>\n",
       "      <th>2018-10-08 21:00:00</th>\n",
       "      <td>1</td>\n",
       "      <td>5</td>\n",
       "      <td>1</td>\n",
       "      <td>1</td>\n",
       "    </tr>\n",
       "  </tbody>\n",
       "</table>\n",
       "</div>"
      ],
      "text/plain": [
       "                     Best days  Time scores  Weekday evenings  \\\n",
       "Time                                                            \n",
       "2018-10-08 21:15:00          1            5                 1   \n",
       "2018-10-08 19:00:00          1            5                 1   \n",
       "2018-10-08 20:30:00          1            5                 1   \n",
       "2018-10-08 20:45:00          1            5                 1   \n",
       "2018-10-08 21:00:00          1            5                 1   \n",
       "\n",
       "                     Weekday evenings not beer club  \n",
       "Time                                                 \n",
       "2018-10-08 21:15:00                               1  \n",
       "2018-10-08 19:00:00                               1  \n",
       "2018-10-08 20:30:00                               1  \n",
       "2018-10-08 20:45:00                               1  \n",
       "2018-10-08 21:00:00                               1  "
      ]
     },
     "execution_count": 59,
     "metadata": {},
     "output_type": "execute_result"
    }
   ],
   "source": [
    "time_scores_df.sort_values(by='Time scores', ascending=False).head()"
   ]
  },
  {
   "cell_type": "code",
   "execution_count": 60,
   "metadata": {
    "collapsed": false
   },
   "outputs": [
    {
     "data": {
      "text/plain": [
       "864"
      ]
     },
     "execution_count": 60,
     "metadata": {},
     "output_type": "execute_result"
    }
   ],
   "source": [
    "len(possible_combinations)"
   ]
  },
  {
   "cell_type": "code",
   "execution_count": 61,
   "metadata": {
    "collapsed": false
   },
   "outputs": [],
   "source": [
    "scores = []\n",
    "for i, combination in enumerate(possible_combinations):\n",
    "    indeces = zip(selected_films, combination)\n",
    "    scores.append((selected_film_screening_times.loc[indeces].sum()*time_scores).sum())"
   ]
  },
  {
   "cell_type": "code",
   "execution_count": 62,
   "metadata": {
    "collapsed": false
   },
   "outputs": [
    {
     "data": {
      "text/plain": [
       "124    331\n",
       "544    331\n",
       "62     331\n",
       "440    331\n",
       "464    331\n",
       "14     331\n",
       "496    331\n",
       "220    331\n",
       "434    324\n",
       "2      324\n",
       "dtype: int64"
      ]
     },
     "execution_count": 62,
     "metadata": {},
     "output_type": "execute_result"
    }
   ],
   "source": [
    "best_combinations = pd.Series(scores).sort_values(ascending=False)\n",
    "best_combinations.head(10)"
   ]
  },
  {
   "cell_type": "code",
   "execution_count": 63,
   "metadata": {
    "collapsed": false,
    "scrolled": true
   },
   "outputs": [
    {
     "data": {
      "text/html": [
       "<div>\n",
       "<style scoped>\n",
       "    .dataframe tbody tr th:only-of-type {\n",
       "        vertical-align: middle;\n",
       "    }\n",
       "\n",
       "    .dataframe tbody tr th {\n",
       "        vertical-align: top;\n",
       "    }\n",
       "\n",
       "    .dataframe thead th {\n",
       "        text-align: right;\n",
       "    }\n",
       "</style>\n",
       "<table border=\"1\" class=\"dataframe\">\n",
       "  <thead>\n",
       "    <tr style=\"text-align: right;\">\n",
       "      <th></th>\n",
       "      <th>124</th>\n",
       "      <th>544</th>\n",
       "      <th>62</th>\n",
       "      <th>440</th>\n",
       "      <th>464</th>\n",
       "    </tr>\n",
       "  </thead>\n",
       "  <tbody>\n",
       "    <tr>\n",
       "      <th>All Good</th>\n",
       "      <td>2018-10-02 14:00:00</td>\n",
       "      <td>2018-10-05 19:00:00</td>\n",
       "      <td>2018-10-02 14:00:00</td>\n",
       "      <td>2018-10-05 19:00:00</td>\n",
       "      <td>2018-10-05 19:00:00</td>\n",
       "    </tr>\n",
       "    <tr>\n",
       "      <th>Happy as Lazzaro</th>\n",
       "      <td>2018-10-05 13:15:00</td>\n",
       "      <td>2018-10-05 13:15:00</td>\n",
       "      <td>2018-10-05 13:15:00</td>\n",
       "      <td>2018-10-05 13:15:00</td>\n",
       "      <td>2018-10-05 13:15:00</td>\n",
       "    </tr>\n",
       "    <tr>\n",
       "      <th>Cold War</th>\n",
       "      <td>2018-10-02 18:30:00</td>\n",
       "      <td>2018-10-02 18:30:00</td>\n",
       "      <td>2018-10-02 18:30:00</td>\n",
       "      <td>2018-10-02 18:30:00</td>\n",
       "      <td>2018-10-02 18:30:00</td>\n",
       "    </tr>\n",
       "    <tr>\n",
       "      <th>Burning</th>\n",
       "      <td>2018-10-12 15:00:00</td>\n",
       "      <td>2018-10-12 15:00:00</td>\n",
       "      <td>2018-10-07 20:30:00</td>\n",
       "      <td>2018-10-07 20:30:00</td>\n",
       "      <td>2018-10-07 20:30:00</td>\n",
       "    </tr>\n",
       "    <tr>\n",
       "      <th>The Wild Pear Tree</th>\n",
       "      <td>2018-09-30 20:30:00</td>\n",
       "      <td>2018-10-01 14:30:00</td>\n",
       "      <td>2018-10-01 14:30:00</td>\n",
       "      <td>2018-09-30 20:30:00</td>\n",
       "      <td>2018-10-01 14:30:00</td>\n",
       "    </tr>\n",
       "    <tr>\n",
       "      <th>It's Boring Here, Pick Me Up</th>\n",
       "      <td>2018-10-09 19:00:00</td>\n",
       "      <td>2018-10-09 19:00:00</td>\n",
       "      <td>2018-10-09 19:00:00</td>\n",
       "      <td>2018-10-09 19:00:00</td>\n",
       "      <td>2018-10-09 19:00:00</td>\n",
       "    </tr>\n",
       "    <tr>\n",
       "      <th>Shoplifters</th>\n",
       "      <td>2018-10-01 18:00:00</td>\n",
       "      <td>2018-10-01 18:00:00</td>\n",
       "      <td>2018-10-01 18:00:00</td>\n",
       "      <td>2018-10-01 18:00:00</td>\n",
       "      <td>2018-10-01 18:00:00</td>\n",
       "    </tr>\n",
       "    <tr>\n",
       "      <th>Jinpa</th>\n",
       "      <td>2018-09-28 13:15:00</td>\n",
       "      <td>2018-09-30 21:30:00</td>\n",
       "      <td>2018-09-30 21:30:00</td>\n",
       "      <td>2018-09-28 13:15:00</td>\n",
       "      <td>2018-09-30 21:30:00</td>\n",
       "    </tr>\n",
       "    <tr>\n",
       "      <th>Daughter of Mine</th>\n",
       "      <td>2018-09-30 15:30:00</td>\n",
       "      <td>2018-09-30 15:30:00</td>\n",
       "      <td>2018-09-30 15:30:00</td>\n",
       "      <td>2018-09-30 15:30:00</td>\n",
       "      <td>2018-09-30 15:30:00</td>\n",
       "    </tr>\n",
       "    <tr>\n",
       "      <th>Last Summer</th>\n",
       "      <td>2018-09-29 18:30:00</td>\n",
       "      <td>2018-09-29 18:30:00</td>\n",
       "      <td>2018-09-29 18:30:00</td>\n",
       "      <td>2018-09-29 18:30:00</td>\n",
       "      <td>2018-09-29 18:30:00</td>\n",
       "    </tr>\n",
       "    <tr>\n",
       "      <th>In the Aisles</th>\n",
       "      <td>2018-10-06 21:00:00</td>\n",
       "      <td>2018-10-06 21:00:00</td>\n",
       "      <td>2018-10-06 21:00:00</td>\n",
       "      <td>2018-10-06 21:00:00</td>\n",
       "      <td>2018-10-06 21:00:00</td>\n",
       "    </tr>\n",
       "    <tr>\n",
       "      <th>The Favourite</th>\n",
       "      <td>2018-10-02 21:00:00</td>\n",
       "      <td>2018-10-02 21:00:00</td>\n",
       "      <td>2018-10-02 21:00:00</td>\n",
       "      <td>2018-10-02 21:00:00</td>\n",
       "      <td>2018-10-02 21:00:00</td>\n",
       "    </tr>\n",
       "    <tr>\n",
       "      <th>Winter Flies</th>\n",
       "      <td>2018-10-05 18:45:00</td>\n",
       "      <td>2018-10-11 10:45:00</td>\n",
       "      <td>2018-10-05 18:45:00</td>\n",
       "      <td>2018-10-11 10:45:00</td>\n",
       "      <td>2018-10-11 10:45:00</td>\n",
       "    </tr>\n",
       "    <tr>\n",
       "      <th>Woman at War</th>\n",
       "      <td>2018-09-29 16:00:00</td>\n",
       "      <td>2018-09-29 16:00:00</td>\n",
       "      <td>2018-09-29 16:00:00</td>\n",
       "      <td>2018-09-29 16:00:00</td>\n",
       "      <td>2018-09-29 16:00:00</td>\n",
       "    </tr>\n",
       "    <tr>\n",
       "      <th>Sicilian Ghost Story</th>\n",
       "      <td>2018-10-08 11:15:00</td>\n",
       "      <td>2018-10-08 11:15:00</td>\n",
       "      <td>2018-10-08 11:15:00</td>\n",
       "      <td>2018-10-08 11:15:00</td>\n",
       "      <td>2018-10-08 11:15:00</td>\n",
       "    </tr>\n",
       "    <tr>\n",
       "      <th>Birds of Passage</th>\n",
       "      <td>2018-10-07 18:30:00</td>\n",
       "      <td>2018-10-07 18:30:00</td>\n",
       "      <td>2018-10-11 16:00:00</td>\n",
       "      <td>2018-10-11 16:00:00</td>\n",
       "      <td>2018-10-11 16:00:00</td>\n",
       "    </tr>\n",
       "    <tr>\n",
       "      <th>Ash Is Purest White</th>\n",
       "      <td>2018-10-03 20:45:00</td>\n",
       "      <td>2018-10-03 20:45:00</td>\n",
       "      <td>2018-10-03 20:45:00</td>\n",
       "      <td>2018-10-03 20:45:00</td>\n",
       "      <td>2018-10-03 20:45:00</td>\n",
       "    </tr>\n",
       "  </tbody>\n",
       "</table>\n",
       "</div>"
      ],
      "text/plain": [
       "                                             124                 544  \\\n",
       "All Good                     2018-10-02 14:00:00 2018-10-05 19:00:00   \n",
       "Happy as Lazzaro             2018-10-05 13:15:00 2018-10-05 13:15:00   \n",
       "Cold War                     2018-10-02 18:30:00 2018-10-02 18:30:00   \n",
       "Burning                      2018-10-12 15:00:00 2018-10-12 15:00:00   \n",
       "The Wild Pear Tree           2018-09-30 20:30:00 2018-10-01 14:30:00   \n",
       "It's Boring Here, Pick Me Up 2018-10-09 19:00:00 2018-10-09 19:00:00   \n",
       "Shoplifters                  2018-10-01 18:00:00 2018-10-01 18:00:00   \n",
       "Jinpa                        2018-09-28 13:15:00 2018-09-30 21:30:00   \n",
       "Daughter of Mine             2018-09-30 15:30:00 2018-09-30 15:30:00   \n",
       "Last Summer                  2018-09-29 18:30:00 2018-09-29 18:30:00   \n",
       "In the Aisles                2018-10-06 21:00:00 2018-10-06 21:00:00   \n",
       "The Favourite                2018-10-02 21:00:00 2018-10-02 21:00:00   \n",
       "Winter Flies                 2018-10-05 18:45:00 2018-10-11 10:45:00   \n",
       "Woman at War                 2018-09-29 16:00:00 2018-09-29 16:00:00   \n",
       "Sicilian Ghost Story         2018-10-08 11:15:00 2018-10-08 11:15:00   \n",
       "Birds of Passage             2018-10-07 18:30:00 2018-10-07 18:30:00   \n",
       "Ash Is Purest White          2018-10-03 20:45:00 2018-10-03 20:45:00   \n",
       "\n",
       "                                             62                  440  \\\n",
       "All Good                     2018-10-02 14:00:00 2018-10-05 19:00:00   \n",
       "Happy as Lazzaro             2018-10-05 13:15:00 2018-10-05 13:15:00   \n",
       "Cold War                     2018-10-02 18:30:00 2018-10-02 18:30:00   \n",
       "Burning                      2018-10-07 20:30:00 2018-10-07 20:30:00   \n",
       "The Wild Pear Tree           2018-10-01 14:30:00 2018-09-30 20:30:00   \n",
       "It's Boring Here, Pick Me Up 2018-10-09 19:00:00 2018-10-09 19:00:00   \n",
       "Shoplifters                  2018-10-01 18:00:00 2018-10-01 18:00:00   \n",
       "Jinpa                        2018-09-30 21:30:00 2018-09-28 13:15:00   \n",
       "Daughter of Mine             2018-09-30 15:30:00 2018-09-30 15:30:00   \n",
       "Last Summer                  2018-09-29 18:30:00 2018-09-29 18:30:00   \n",
       "In the Aisles                2018-10-06 21:00:00 2018-10-06 21:00:00   \n",
       "The Favourite                2018-10-02 21:00:00 2018-10-02 21:00:00   \n",
       "Winter Flies                 2018-10-05 18:45:00 2018-10-11 10:45:00   \n",
       "Woman at War                 2018-09-29 16:00:00 2018-09-29 16:00:00   \n",
       "Sicilian Ghost Story         2018-10-08 11:15:00 2018-10-08 11:15:00   \n",
       "Birds of Passage             2018-10-11 16:00:00 2018-10-11 16:00:00   \n",
       "Ash Is Purest White          2018-10-03 20:45:00 2018-10-03 20:45:00   \n",
       "\n",
       "                                             464  \n",
       "All Good                     2018-10-05 19:00:00  \n",
       "Happy as Lazzaro             2018-10-05 13:15:00  \n",
       "Cold War                     2018-10-02 18:30:00  \n",
       "Burning                      2018-10-07 20:30:00  \n",
       "The Wild Pear Tree           2018-10-01 14:30:00  \n",
       "It's Boring Here, Pick Me Up 2018-10-09 19:00:00  \n",
       "Shoplifters                  2018-10-01 18:00:00  \n",
       "Jinpa                        2018-09-30 21:30:00  \n",
       "Daughter of Mine             2018-09-30 15:30:00  \n",
       "Last Summer                  2018-09-29 18:30:00  \n",
       "In the Aisles                2018-10-06 21:00:00  \n",
       "The Favourite                2018-10-02 21:00:00  \n",
       "Winter Flies                 2018-10-11 10:45:00  \n",
       "Woman at War                 2018-09-29 16:00:00  \n",
       "Sicilian Ghost Story         2018-10-08 11:15:00  \n",
       "Birds of Passage             2018-10-11 16:00:00  \n",
       "Ash Is Purest White          2018-10-03 20:45:00  "
      ]
     },
     "execution_count": 63,
     "metadata": {},
     "output_type": "execute_result"
    }
   ],
   "source": [
    "summary_df = pd.DataFrame(index=selected_films)\n",
    "for i in best_combinations.head().index:\n",
    "    combination = possible_combinations[i]\n",
    "    data = []\n",
    "    for film, screening in zip(selected_films, combination):\n",
    "        data.append(selected_film_screenings[film][screening])\n",
    "    summary_df[i] = pd.Series(data, index=selected_films)\n",
    "summary_df"
   ]
  },
  {
   "cell_type": "code",
   "execution_count": 65,
   "metadata": {
    "collapsed": true
   },
   "outputs": [],
   "source": [
    "best_pick = 124"
   ]
  },
  {
   "cell_type": "code",
   "execution_count": 66,
   "metadata": {
    "collapsed": false
   },
   "outputs": [
    {
     "data": {
      "text/plain": [
       "All Good                       2018-10-02 14:00:00\n",
       "Happy as Lazzaro               2018-10-05 13:15:00\n",
       "Cold War                       2018-10-02 18:30:00\n",
       "Burning                        2018-10-12 15:00:00\n",
       "The Wild Pear Tree             2018-09-30 20:30:00\n",
       "It's Boring Here, Pick Me Up   2018-10-09 19:00:00\n",
       "Shoplifters                    2018-10-01 18:00:00\n",
       "Jinpa                          2018-09-28 13:15:00\n",
       "Daughter of Mine               2018-09-30 15:30:00\n",
       "Last Summer                    2018-09-29 18:30:00\n",
       "Name: 124, dtype: datetime64[ns]"
      ]
     },
     "execution_count": 66,
     "metadata": {},
     "output_type": "execute_result"
    }
   ],
   "source": [
    "summary_df.loc[desired_films[1], best_pick]"
   ]
  },
  {
   "cell_type": "code",
   "execution_count": 67,
   "metadata": {
    "collapsed": false
   },
   "outputs": [
    {
     "data": {
      "text/plain": [
       "In the Aisles          2018-10-06 21:00:00\n",
       "The Favourite          2018-10-02 21:00:00\n",
       "Winter Flies           2018-10-05 18:45:00\n",
       "Woman at War           2018-09-29 16:00:00\n",
       "Sicilian Ghost Story   2018-10-08 11:15:00\n",
       "Birds of Passage       2018-10-07 18:30:00\n",
       "Ash Is Purest White    2018-10-03 20:45:00\n",
       "Name: 124, dtype: datetime64[ns]"
      ]
     },
     "execution_count": 67,
     "metadata": {},
     "output_type": "execute_result"
    }
   ],
   "source": [
    "summary_df.loc[desired_films[2], best_pick]"
   ]
  },
  {
   "cell_type": "code",
   "execution_count": null,
   "metadata": {
    "collapsed": true
   },
   "outputs": [],
   "source": []
  },
  {
   "cell_type": "code",
   "execution_count": null,
   "metadata": {
    "collapsed": true
   },
   "outputs": [],
   "source": []
  },
  {
   "cell_type": "code",
   "execution_count": null,
   "metadata": {
    "collapsed": true
   },
   "outputs": [],
   "source": []
  },
  {
   "cell_type": "code",
   "execution_count": null,
   "metadata": {
    "collapsed": true
   },
   "outputs": [],
   "source": []
  }
 ],
 "metadata": {
  "kernelspec": {
   "display_name": "Python (scrapyenv)",
   "language": "python",
   "name": "scrapyenv"
  },
  "language_info": {
   "codemirror_mode": {
    "name": "ipython",
    "version": 2
   },
   "file_extension": ".py",
   "mimetype": "text/x-python",
   "name": "python",
   "nbconvert_exporter": "python",
   "pygments_lexer": "ipython2",
   "version": "2.7.11"
  }
 },
 "nbformat": 4,
 "nbformat_minor": 1
}
